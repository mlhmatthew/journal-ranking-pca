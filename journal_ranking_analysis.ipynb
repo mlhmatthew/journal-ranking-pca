{
  "nbformat": 4,
  "nbformat_minor": 0,
  "metadata": {
    "colab": {
      "provenance": []
    },
    "kernelspec": {
      "name": "python3",
      "display_name": "Python 3"
    },
    "language_info": {
      "name": "python"
    }
  },
  "cells": [
    {
      "cell_type": "code",
      "execution_count": null,
      "metadata": {
        "id": "kLiPKLfJMvzU"
      },
      "outputs": [],
      "source": [
        "import pandas as pd\n",
        "import numpy as np\n",
        "from sklearn.decomposition import PCA"
      ]
    },
    {
      "cell_type": "code",
      "source": [
        "df = pd.read_csv(\"journal_ranking_data.csv\")"
      ],
      "metadata": {
        "id": "ijQlaqlnKOqZ",
        "colab": {
          "base_uri": "https://localhost:8080/"
        },
        "outputId": "565a156c-741c-495e-e9d1-a2451b1b8d66"
      },
      "execution_count": null,
      "outputs": [
        {
          "output_type": "stream",
          "name": "stderr",
          "text": [
            "<ipython-input-2-2b389cd409dd>:1: DtypeWarning: Columns (20) have mixed types. Specify dtype option on import or set low_memory=False.\n",
            "  df = pd.read_csv(\"journal_ranking_data.csv\")\n"
          ]
        }
      ]
    },
    {
      "cell_type": "code",
      "source": [
        "df"
      ],
      "metadata": {
        "colab": {
          "base_uri": "https://localhost:8080/",
          "height": 981
        },
        "id": "G_XGsbD10fE_",
        "outputId": "a37297d1-8d2d-42f0-acf4-0a88cfeca0e6"
      },
      "execution_count": null,
      "outputs": [
        {
          "output_type": "execute_result",
          "data": {
            "text/plain": [
              "        Rank                                      Title     OA  \\\n",
              "0          1         Ca-A Cancer Journal for Clinicians  False   \n",
              "1          2             Quarterly Journal of Economics  False   \n",
              "2          3      Nature Reviews Molecular Cell Biology  False   \n",
              "3          4                                       Cell  False   \n",
              "4          5            New England Journal of Medicine  False   \n",
              "...      ...                                        ...    ...   \n",
              "18008  18009                  Western Humanities Review  False   \n",
              "18009  18010                                Yale Review  False   \n",
              "18010  18011       Zeitschrift fur Theologie und Kirche  False   \n",
              "18011  18012                           Zivot Umjetnosti   True   \n",
              "18012  18013  British Journal of American Legal Studies   True   \n",
              "\n",
              "              Country  SJR-index  CiteScore  H-index Best Quartile  \\\n",
              "0       United States     86.091      642.9      198            Q1   \n",
              "1      United Kingdom     36.730       25.1      292            Q1   \n",
              "2      United Kingdom     34.201      164.4      485            Q1   \n",
              "3       United States     26.494      102.0      856            Q1   \n",
              "4       United States     26.015      134.4     1130            Q1   \n",
              "...               ...        ...        ...      ...           ...   \n",
              "18008   United States      0.100        0.0        6            Q4   \n",
              "18009   United States      0.100        0.0        4            Q4   \n",
              "18010         Germany      0.100        0.2        6            Q4   \n",
              "18011         Croatia      0.100        0.1        2            Q4   \n",
              "18012          Poland      0.100        0.1        4            Q4   \n",
              "\n",
              "                                         Best Categories  \\\n",
              "0                             ['Hematology', 'Oncology']   \n",
              "1                         ['Economics and Econometrics']   \n",
              "2                  ['Cell Biology', 'Molecular Biology']   \n",
              "3      ['Biochemistry, Genetics and Molecular Biology...   \n",
              "4                           ['Medicine (miscellaneous)']   \n",
              "...                                                  ...   \n",
              "18008                 ['Literature and Literary Theory']   \n",
              "18009                 ['Literature and Literary Theory']   \n",
              "18010                              ['Religious Studies']   \n",
              "18011   ['Museology', 'Visual Arts and Performing Arts']   \n",
              "18012                                            ['Law']   \n",
              "\n",
              "                                  Best Subject Area  ...  2700 Medicine  \\\n",
              "0                                          Medicine  ...              1   \n",
              "1               Economics, Econometrics and Finance  ...              0   \n",
              "2      Biochemistry, Genetics and Molecular Biology  ...              0   \n",
              "3      Biochemistry, Genetics and Molecular Biology  ...              0   \n",
              "4                                          Medicine  ...              1   \n",
              "...                                             ...  ...            ...   \n",
              "18008                           Arts and Humanities  ...              0   \n",
              "18009                           Arts and Humanities  ...              0   \n",
              "18010                           Arts and Humanities  ...              0   \n",
              "18011                           Arts and Humanities  ...              0   \n",
              "18012                               Social Sciences  ...              0   \n",
              "\n",
              "       2800 Neuroscience  2900 Nursing  \\\n",
              "0                      0             0   \n",
              "1                      0             0   \n",
              "2                      0             0   \n",
              "3                      0             0   \n",
              "4                      0             0   \n",
              "...                  ...           ...   \n",
              "18008                  0             0   \n",
              "18009                  0             0   \n",
              "18010                  0             0   \n",
              "18011                  0             0   \n",
              "18012                  0             0   \n",
              "\n",
              "       3000 Pharmacology, Toxicology and Pharmaceutics  \\\n",
              "0                                                    0   \n",
              "1                                                    0   \n",
              "2                                                    0   \n",
              "3                                                    0   \n",
              "4                                                    0   \n",
              "...                                                ...   \n",
              "18008                                                0   \n",
              "18009                                                0   \n",
              "18010                                                0   \n",
              "18011                                                0   \n",
              "18012                                                0   \n",
              "\n",
              "       3100 Physics and Astronomy  3200 Psychology  3300 Social Sciences  \\\n",
              "0                               0                0                     0   \n",
              "1                               0                0                     0   \n",
              "2                               0                0                     0   \n",
              "3                               0                0                     0   \n",
              "4                               0                0                     0   \n",
              "...                           ...              ...                   ...   \n",
              "18008                           0                0                     0   \n",
              "18009                           0                0                     0   \n",
              "18010                           0                0                     0   \n",
              "18011                           0                0                     0   \n",
              "18012                           0                0                     1   \n",
              "\n",
              "       3400 Veterinary 3500 Dentistry 3600 Health Professions  \n",
              "0                    0              0                       0  \n",
              "1                    0              0                       0  \n",
              "2                    0              0                       0  \n",
              "3                    0              0                       0  \n",
              "4                    0              0                       0  \n",
              "...                ...            ...                     ...  \n",
              "18008                0              0                       0  \n",
              "18009                0              0                       0  \n",
              "18010                0              0                       0  \n",
              "18011                0              0                       0  \n",
              "18012                0              0                       0  \n",
              "\n",
              "[18013 rows x 56 columns]"
            ],
            "text/html": [
              "\n",
              "  <div id=\"df-bdf5d294-2cce-4a67-b107-f8762e9da38e\" class=\"colab-df-container\">\n",
              "    <div>\n",
              "<style scoped>\n",
              "    .dataframe tbody tr th:only-of-type {\n",
              "        vertical-align: middle;\n",
              "    }\n",
              "\n",
              "    .dataframe tbody tr th {\n",
              "        vertical-align: top;\n",
              "    }\n",
              "\n",
              "    .dataframe thead th {\n",
              "        text-align: right;\n",
              "    }\n",
              "</style>\n",
              "<table border=\"1\" class=\"dataframe\">\n",
              "  <thead>\n",
              "    <tr style=\"text-align: right;\">\n",
              "      <th></th>\n",
              "      <th>Rank</th>\n",
              "      <th>Title</th>\n",
              "      <th>OA</th>\n",
              "      <th>Country</th>\n",
              "      <th>SJR-index</th>\n",
              "      <th>CiteScore</th>\n",
              "      <th>H-index</th>\n",
              "      <th>Best Quartile</th>\n",
              "      <th>Best Categories</th>\n",
              "      <th>Best Subject Area</th>\n",
              "      <th>...</th>\n",
              "      <th>2700 Medicine</th>\n",
              "      <th>2800 Neuroscience</th>\n",
              "      <th>2900 Nursing</th>\n",
              "      <th>3000 Pharmacology, Toxicology and Pharmaceutics</th>\n",
              "      <th>3100 Physics and Astronomy</th>\n",
              "      <th>3200 Psychology</th>\n",
              "      <th>3300 Social Sciences</th>\n",
              "      <th>3400 Veterinary</th>\n",
              "      <th>3500 Dentistry</th>\n",
              "      <th>3600 Health Professions</th>\n",
              "    </tr>\n",
              "  </thead>\n",
              "  <tbody>\n",
              "    <tr>\n",
              "      <th>0</th>\n",
              "      <td>1</td>\n",
              "      <td>Ca-A Cancer Journal for Clinicians</td>\n",
              "      <td>False</td>\n",
              "      <td>United States</td>\n",
              "      <td>86.091</td>\n",
              "      <td>642.9</td>\n",
              "      <td>198</td>\n",
              "      <td>Q1</td>\n",
              "      <td>['Hematology', 'Oncology']</td>\n",
              "      <td>Medicine</td>\n",
              "      <td>...</td>\n",
              "      <td>1</td>\n",
              "      <td>0</td>\n",
              "      <td>0</td>\n",
              "      <td>0</td>\n",
              "      <td>0</td>\n",
              "      <td>0</td>\n",
              "      <td>0</td>\n",
              "      <td>0</td>\n",
              "      <td>0</td>\n",
              "      <td>0</td>\n",
              "    </tr>\n",
              "    <tr>\n",
              "      <th>1</th>\n",
              "      <td>2</td>\n",
              "      <td>Quarterly Journal of Economics</td>\n",
              "      <td>False</td>\n",
              "      <td>United Kingdom</td>\n",
              "      <td>36.730</td>\n",
              "      <td>25.1</td>\n",
              "      <td>292</td>\n",
              "      <td>Q1</td>\n",
              "      <td>['Economics and Econometrics']</td>\n",
              "      <td>Economics, Econometrics and Finance</td>\n",
              "      <td>...</td>\n",
              "      <td>0</td>\n",
              "      <td>0</td>\n",
              "      <td>0</td>\n",
              "      <td>0</td>\n",
              "      <td>0</td>\n",
              "      <td>0</td>\n",
              "      <td>0</td>\n",
              "      <td>0</td>\n",
              "      <td>0</td>\n",
              "      <td>0</td>\n",
              "    </tr>\n",
              "    <tr>\n",
              "      <th>2</th>\n",
              "      <td>3</td>\n",
              "      <td>Nature Reviews Molecular Cell Biology</td>\n",
              "      <td>False</td>\n",
              "      <td>United Kingdom</td>\n",
              "      <td>34.201</td>\n",
              "      <td>164.4</td>\n",
              "      <td>485</td>\n",
              "      <td>Q1</td>\n",
              "      <td>['Cell Biology', 'Molecular Biology']</td>\n",
              "      <td>Biochemistry, Genetics and Molecular Biology</td>\n",
              "      <td>...</td>\n",
              "      <td>0</td>\n",
              "      <td>0</td>\n",
              "      <td>0</td>\n",
              "      <td>0</td>\n",
              "      <td>0</td>\n",
              "      <td>0</td>\n",
              "      <td>0</td>\n",
              "      <td>0</td>\n",
              "      <td>0</td>\n",
              "      <td>0</td>\n",
              "    </tr>\n",
              "    <tr>\n",
              "      <th>3</th>\n",
              "      <td>4</td>\n",
              "      <td>Cell</td>\n",
              "      <td>False</td>\n",
              "      <td>United States</td>\n",
              "      <td>26.494</td>\n",
              "      <td>102.0</td>\n",
              "      <td>856</td>\n",
              "      <td>Q1</td>\n",
              "      <td>['Biochemistry, Genetics and Molecular Biology...</td>\n",
              "      <td>Biochemistry, Genetics and Molecular Biology</td>\n",
              "      <td>...</td>\n",
              "      <td>0</td>\n",
              "      <td>0</td>\n",
              "      <td>0</td>\n",
              "      <td>0</td>\n",
              "      <td>0</td>\n",
              "      <td>0</td>\n",
              "      <td>0</td>\n",
              "      <td>0</td>\n",
              "      <td>0</td>\n",
              "      <td>0</td>\n",
              "    </tr>\n",
              "    <tr>\n",
              "      <th>4</th>\n",
              "      <td>5</td>\n",
              "      <td>New England Journal of Medicine</td>\n",
              "      <td>False</td>\n",
              "      <td>United States</td>\n",
              "      <td>26.015</td>\n",
              "      <td>134.4</td>\n",
              "      <td>1130</td>\n",
              "      <td>Q1</td>\n",
              "      <td>['Medicine (miscellaneous)']</td>\n",
              "      <td>Medicine</td>\n",
              "      <td>...</td>\n",
              "      <td>1</td>\n",
              "      <td>0</td>\n",
              "      <td>0</td>\n",
              "      <td>0</td>\n",
              "      <td>0</td>\n",
              "      <td>0</td>\n",
              "      <td>0</td>\n",
              "      <td>0</td>\n",
              "      <td>0</td>\n",
              "      <td>0</td>\n",
              "    </tr>\n",
              "    <tr>\n",
              "      <th>...</th>\n",
              "      <td>...</td>\n",
              "      <td>...</td>\n",
              "      <td>...</td>\n",
              "      <td>...</td>\n",
              "      <td>...</td>\n",
              "      <td>...</td>\n",
              "      <td>...</td>\n",
              "      <td>...</td>\n",
              "      <td>...</td>\n",
              "      <td>...</td>\n",
              "      <td>...</td>\n",
              "      <td>...</td>\n",
              "      <td>...</td>\n",
              "      <td>...</td>\n",
              "      <td>...</td>\n",
              "      <td>...</td>\n",
              "      <td>...</td>\n",
              "      <td>...</td>\n",
              "      <td>...</td>\n",
              "      <td>...</td>\n",
              "      <td>...</td>\n",
              "    </tr>\n",
              "    <tr>\n",
              "      <th>18008</th>\n",
              "      <td>18009</td>\n",
              "      <td>Western Humanities Review</td>\n",
              "      <td>False</td>\n",
              "      <td>United States</td>\n",
              "      <td>0.100</td>\n",
              "      <td>0.0</td>\n",
              "      <td>6</td>\n",
              "      <td>Q4</td>\n",
              "      <td>['Literature and Literary Theory']</td>\n",
              "      <td>Arts and Humanities</td>\n",
              "      <td>...</td>\n",
              "      <td>0</td>\n",
              "      <td>0</td>\n",
              "      <td>0</td>\n",
              "      <td>0</td>\n",
              "      <td>0</td>\n",
              "      <td>0</td>\n",
              "      <td>0</td>\n",
              "      <td>0</td>\n",
              "      <td>0</td>\n",
              "      <td>0</td>\n",
              "    </tr>\n",
              "    <tr>\n",
              "      <th>18009</th>\n",
              "      <td>18010</td>\n",
              "      <td>Yale Review</td>\n",
              "      <td>False</td>\n",
              "      <td>United States</td>\n",
              "      <td>0.100</td>\n",
              "      <td>0.0</td>\n",
              "      <td>4</td>\n",
              "      <td>Q4</td>\n",
              "      <td>['Literature and Literary Theory']</td>\n",
              "      <td>Arts and Humanities</td>\n",
              "      <td>...</td>\n",
              "      <td>0</td>\n",
              "      <td>0</td>\n",
              "      <td>0</td>\n",
              "      <td>0</td>\n",
              "      <td>0</td>\n",
              "      <td>0</td>\n",
              "      <td>0</td>\n",
              "      <td>0</td>\n",
              "      <td>0</td>\n",
              "      <td>0</td>\n",
              "    </tr>\n",
              "    <tr>\n",
              "      <th>18010</th>\n",
              "      <td>18011</td>\n",
              "      <td>Zeitschrift fur Theologie und Kirche</td>\n",
              "      <td>False</td>\n",
              "      <td>Germany</td>\n",
              "      <td>0.100</td>\n",
              "      <td>0.2</td>\n",
              "      <td>6</td>\n",
              "      <td>Q4</td>\n",
              "      <td>['Religious Studies']</td>\n",
              "      <td>Arts and Humanities</td>\n",
              "      <td>...</td>\n",
              "      <td>0</td>\n",
              "      <td>0</td>\n",
              "      <td>0</td>\n",
              "      <td>0</td>\n",
              "      <td>0</td>\n",
              "      <td>0</td>\n",
              "      <td>0</td>\n",
              "      <td>0</td>\n",
              "      <td>0</td>\n",
              "      <td>0</td>\n",
              "    </tr>\n",
              "    <tr>\n",
              "      <th>18011</th>\n",
              "      <td>18012</td>\n",
              "      <td>Zivot Umjetnosti</td>\n",
              "      <td>True</td>\n",
              "      <td>Croatia</td>\n",
              "      <td>0.100</td>\n",
              "      <td>0.1</td>\n",
              "      <td>2</td>\n",
              "      <td>Q4</td>\n",
              "      <td>['Museology', 'Visual Arts and Performing Arts']</td>\n",
              "      <td>Arts and Humanities</td>\n",
              "      <td>...</td>\n",
              "      <td>0</td>\n",
              "      <td>0</td>\n",
              "      <td>0</td>\n",
              "      <td>0</td>\n",
              "      <td>0</td>\n",
              "      <td>0</td>\n",
              "      <td>0</td>\n",
              "      <td>0</td>\n",
              "      <td>0</td>\n",
              "      <td>0</td>\n",
              "    </tr>\n",
              "    <tr>\n",
              "      <th>18012</th>\n",
              "      <td>18013</td>\n",
              "      <td>British Journal of American Legal Studies</td>\n",
              "      <td>True</td>\n",
              "      <td>Poland</td>\n",
              "      <td>0.100</td>\n",
              "      <td>0.1</td>\n",
              "      <td>4</td>\n",
              "      <td>Q4</td>\n",
              "      <td>['Law']</td>\n",
              "      <td>Social Sciences</td>\n",
              "      <td>...</td>\n",
              "      <td>0</td>\n",
              "      <td>0</td>\n",
              "      <td>0</td>\n",
              "      <td>0</td>\n",
              "      <td>0</td>\n",
              "      <td>0</td>\n",
              "      <td>1</td>\n",
              "      <td>0</td>\n",
              "      <td>0</td>\n",
              "      <td>0</td>\n",
              "    </tr>\n",
              "  </tbody>\n",
              "</table>\n",
              "<p>18013 rows × 56 columns</p>\n",
              "</div>\n",
              "    <div class=\"colab-df-buttons\">\n",
              "\n",
              "  <div class=\"colab-df-container\">\n",
              "    <button class=\"colab-df-convert\" onclick=\"convertToInteractive('df-bdf5d294-2cce-4a67-b107-f8762e9da38e')\"\n",
              "            title=\"Convert this dataframe to an interactive table.\"\n",
              "            style=\"display:none;\">\n",
              "\n",
              "  <svg xmlns=\"http://www.w3.org/2000/svg\" height=\"24px\" viewBox=\"0 -960 960 960\">\n",
              "    <path d=\"M120-120v-720h720v720H120Zm60-500h600v-160H180v160Zm220 220h160v-160H400v160Zm0 220h160v-160H400v160ZM180-400h160v-160H180v160Zm440 0h160v-160H620v160ZM180-180h160v-160H180v160Zm440 0h160v-160H620v160Z\"/>\n",
              "  </svg>\n",
              "    </button>\n",
              "\n",
              "  <style>\n",
              "    .colab-df-container {\n",
              "      display:flex;\n",
              "      gap: 12px;\n",
              "    }\n",
              "\n",
              "    .colab-df-convert {\n",
              "      background-color: #E8F0FE;\n",
              "      border: none;\n",
              "      border-radius: 50%;\n",
              "      cursor: pointer;\n",
              "      display: none;\n",
              "      fill: #1967D2;\n",
              "      height: 32px;\n",
              "      padding: 0 0 0 0;\n",
              "      width: 32px;\n",
              "    }\n",
              "\n",
              "    .colab-df-convert:hover {\n",
              "      background-color: #E2EBFA;\n",
              "      box-shadow: 0px 1px 2px rgba(60, 64, 67, 0.3), 0px 1px 3px 1px rgba(60, 64, 67, 0.15);\n",
              "      fill: #174EA6;\n",
              "    }\n",
              "\n",
              "    .colab-df-buttons div {\n",
              "      margin-bottom: 4px;\n",
              "    }\n",
              "\n",
              "    [theme=dark] .colab-df-convert {\n",
              "      background-color: #3B4455;\n",
              "      fill: #D2E3FC;\n",
              "    }\n",
              "\n",
              "    [theme=dark] .colab-df-convert:hover {\n",
              "      background-color: #434B5C;\n",
              "      box-shadow: 0px 1px 3px 1px rgba(0, 0, 0, 0.15);\n",
              "      filter: drop-shadow(0px 1px 2px rgba(0, 0, 0, 0.3));\n",
              "      fill: #FFFFFF;\n",
              "    }\n",
              "  </style>\n",
              "\n",
              "    <script>\n",
              "      const buttonEl =\n",
              "        document.querySelector('#df-bdf5d294-2cce-4a67-b107-f8762e9da38e button.colab-df-convert');\n",
              "      buttonEl.style.display =\n",
              "        google.colab.kernel.accessAllowed ? 'block' : 'none';\n",
              "\n",
              "      async function convertToInteractive(key) {\n",
              "        const element = document.querySelector('#df-bdf5d294-2cce-4a67-b107-f8762e9da38e');\n",
              "        const dataTable =\n",
              "          await google.colab.kernel.invokeFunction('convertToInteractive',\n",
              "                                                    [key], {});\n",
              "        if (!dataTable) return;\n",
              "\n",
              "        const docLinkHtml = 'Like what you see? Visit the ' +\n",
              "          '<a target=\"_blank\" href=https://colab.research.google.com/notebooks/data_table.ipynb>data table notebook</a>'\n",
              "          + ' to learn more about interactive tables.';\n",
              "        element.innerHTML = '';\n",
              "        dataTable['output_type'] = 'display_data';\n",
              "        await google.colab.output.renderOutput(dataTable, element);\n",
              "        const docLink = document.createElement('div');\n",
              "        docLink.innerHTML = docLinkHtml;\n",
              "        element.appendChild(docLink);\n",
              "      }\n",
              "    </script>\n",
              "  </div>\n",
              "\n",
              "\n",
              "<div id=\"df-832fa3be-edca-4079-9f0a-f7da2be2e9ee\">\n",
              "  <button class=\"colab-df-quickchart\" onclick=\"quickchart('df-832fa3be-edca-4079-9f0a-f7da2be2e9ee')\"\n",
              "            title=\"Suggest charts\"\n",
              "            style=\"display:none;\">\n",
              "\n",
              "<svg xmlns=\"http://www.w3.org/2000/svg\" height=\"24px\"viewBox=\"0 0 24 24\"\n",
              "     width=\"24px\">\n",
              "    <g>\n",
              "        <path d=\"M19 3H5c-1.1 0-2 .9-2 2v14c0 1.1.9 2 2 2h14c1.1 0 2-.9 2-2V5c0-1.1-.9-2-2-2zM9 17H7v-7h2v7zm4 0h-2V7h2v10zm4 0h-2v-4h2v4z\"/>\n",
              "    </g>\n",
              "</svg>\n",
              "  </button>\n",
              "\n",
              "<style>\n",
              "  .colab-df-quickchart {\n",
              "      --bg-color: #E8F0FE;\n",
              "      --fill-color: #1967D2;\n",
              "      --hover-bg-color: #E2EBFA;\n",
              "      --hover-fill-color: #174EA6;\n",
              "      --disabled-fill-color: #AAA;\n",
              "      --disabled-bg-color: #DDD;\n",
              "  }\n",
              "\n",
              "  [theme=dark] .colab-df-quickchart {\n",
              "      --bg-color: #3B4455;\n",
              "      --fill-color: #D2E3FC;\n",
              "      --hover-bg-color: #434B5C;\n",
              "      --hover-fill-color: #FFFFFF;\n",
              "      --disabled-bg-color: #3B4455;\n",
              "      --disabled-fill-color: #666;\n",
              "  }\n",
              "\n",
              "  .colab-df-quickchart {\n",
              "    background-color: var(--bg-color);\n",
              "    border: none;\n",
              "    border-radius: 50%;\n",
              "    cursor: pointer;\n",
              "    display: none;\n",
              "    fill: var(--fill-color);\n",
              "    height: 32px;\n",
              "    padding: 0;\n",
              "    width: 32px;\n",
              "  }\n",
              "\n",
              "  .colab-df-quickchart:hover {\n",
              "    background-color: var(--hover-bg-color);\n",
              "    box-shadow: 0 1px 2px rgba(60, 64, 67, 0.3), 0 1px 3px 1px rgba(60, 64, 67, 0.15);\n",
              "    fill: var(--button-hover-fill-color);\n",
              "  }\n",
              "\n",
              "  .colab-df-quickchart-complete:disabled,\n",
              "  .colab-df-quickchart-complete:disabled:hover {\n",
              "    background-color: var(--disabled-bg-color);\n",
              "    fill: var(--disabled-fill-color);\n",
              "    box-shadow: none;\n",
              "  }\n",
              "\n",
              "  .colab-df-spinner {\n",
              "    border: 2px solid var(--fill-color);\n",
              "    border-color: transparent;\n",
              "    border-bottom-color: var(--fill-color);\n",
              "    animation:\n",
              "      spin 1s steps(1) infinite;\n",
              "  }\n",
              "\n",
              "  @keyframes spin {\n",
              "    0% {\n",
              "      border-color: transparent;\n",
              "      border-bottom-color: var(--fill-color);\n",
              "      border-left-color: var(--fill-color);\n",
              "    }\n",
              "    20% {\n",
              "      border-color: transparent;\n",
              "      border-left-color: var(--fill-color);\n",
              "      border-top-color: var(--fill-color);\n",
              "    }\n",
              "    30% {\n",
              "      border-color: transparent;\n",
              "      border-left-color: var(--fill-color);\n",
              "      border-top-color: var(--fill-color);\n",
              "      border-right-color: var(--fill-color);\n",
              "    }\n",
              "    40% {\n",
              "      border-color: transparent;\n",
              "      border-right-color: var(--fill-color);\n",
              "      border-top-color: var(--fill-color);\n",
              "    }\n",
              "    60% {\n",
              "      border-color: transparent;\n",
              "      border-right-color: var(--fill-color);\n",
              "    }\n",
              "    80% {\n",
              "      border-color: transparent;\n",
              "      border-right-color: var(--fill-color);\n",
              "      border-bottom-color: var(--fill-color);\n",
              "    }\n",
              "    90% {\n",
              "      border-color: transparent;\n",
              "      border-bottom-color: var(--fill-color);\n",
              "    }\n",
              "  }\n",
              "</style>\n",
              "\n",
              "  <script>\n",
              "    async function quickchart(key) {\n",
              "      const quickchartButtonEl =\n",
              "        document.querySelector('#' + key + ' button');\n",
              "      quickchartButtonEl.disabled = true;  // To prevent multiple clicks.\n",
              "      quickchartButtonEl.classList.add('colab-df-spinner');\n",
              "      try {\n",
              "        const charts = await google.colab.kernel.invokeFunction(\n",
              "            'suggestCharts', [key], {});\n",
              "      } catch (error) {\n",
              "        console.error('Error during call to suggestCharts:', error);\n",
              "      }\n",
              "      quickchartButtonEl.classList.remove('colab-df-spinner');\n",
              "      quickchartButtonEl.classList.add('colab-df-quickchart-complete');\n",
              "    }\n",
              "    (() => {\n",
              "      let quickchartButtonEl =\n",
              "        document.querySelector('#df-832fa3be-edca-4079-9f0a-f7da2be2e9ee button');\n",
              "      quickchartButtonEl.style.display =\n",
              "        google.colab.kernel.accessAllowed ? 'block' : 'none';\n",
              "    })();\n",
              "  </script>\n",
              "</div>\n",
              "    </div>\n",
              "  </div>\n"
            ],
            "application/vnd.google.colaboratory.intrinsic+json": {
              "type": "dataframe",
              "variable_name": "df"
            }
          },
          "metadata": {},
          "execution_count": 3
        }
      ]
    },
    {
      "cell_type": "markdown",
      "source": [
        "**standardized ranking of metrics**"
      ],
      "metadata": {
        "id": "XPFa6Zdy0iBE"
      }
    },
    {
      "cell_type": "code",
      "source": [
        "\n",
        "from sklearn.preprocessing import StandardScaler\n",
        "\n",
        "\n",
        "data = {\n",
        "    'SJR-index': df['SJR-index'],\n",
        "    'H-index': df['H-index'],\n",
        "    'CiteScore': df['CiteScore'],\n",
        "    'Cites/Doc. in 2 years': df['Cites/Doc. 2y'],\n",
        "    'Total Cites in 3 years': df['Total Cites 3y'],\n",
        "    'Refs./Doc.': df['Refs./Doc.']\n",
        "}\n",
        "\n",
        "\n",
        "df1 = pd.DataFrame(data)\n",
        "\n",
        "scaler = StandardScaler()\n",
        "\n",
        "\n",
        "scaled_data = scaler.fit_transform(df1)\n",
        "\n",
        "\n",
        "df1_standardized = pd.DataFrame(scaled_data, columns=df1.columns)\n",
        "df1=df1_standardized\n",
        "print(df1)\n"
      ],
      "metadata": {
        "colab": {
          "base_uri": "https://localhost:8080/"
        },
        "id": "n75gFxmdVnp1",
        "outputId": "6fb258a8-2e57-443b-c361-d4863104e9ec"
      },
      "execution_count": null,
      "outputs": [
        {
          "output_type": "stream",
          "name": "stdout",
          "text": [
            "       SJR-index    H-index  CiteScore  Cites/Doc. in 2 years  \\\n",
            "0      57.956225   2.217100  82.412063              79.279072   \n",
            "1      24.407762   3.704086   2.649279               3.267751   \n",
            "2      22.688913   6.757153  20.633992               8.769483   \n",
            "3      17.450810  12.626002  12.577667              10.989900   \n",
            "4      17.125255  16.960408  16.760759               8.358985   \n",
            "...          ...        ...        ...                    ...   \n",
            "18008  -0.488011  -0.820147  -0.591327              -0.685285   \n",
            "18009  -0.488011  -0.851785  -0.591327              -0.679954   \n",
            "18010  -0.488011  -0.820147  -0.565505              -0.645302   \n",
            "18011  -0.488011  -0.883423  -0.578416              -0.663961   \n",
            "18012  -0.488011  -0.851785  -0.578416              -0.677288   \n",
            "\n",
            "       Total Cites in 3 years  Refs./Doc.  \n",
            "0                    3.678508    1.803853  \n",
            "1                    0.050257    0.749993  \n",
            "2                    1.491153    1.536487  \n",
            "3                    8.503772    0.719823  \n",
            "4                   17.023602   -1.205837  \n",
            "...                       ...         ...  \n",
            "18008               -0.225432   -1.559898  \n",
            "18009               -0.224917   -1.559898  \n",
            "18010               -0.224402   -0.600362  \n",
            "18011               -0.224917   -1.559898  \n",
            "18012               -0.225303   -0.158913  \n",
            "\n",
            "[18013 rows x 6 columns]\n"
          ]
        }
      ]
    },
    {
      "cell_type": "markdown",
      "source": [
        "**Define the weights for each metric**"
      ],
      "metadata": {
        "id": "-thyCNmK37fh"
      }
    },
    {
      "cell_type": "code",
      "source": [
        "# Define the weights for each metric\n",
        "weights = {\n",
        "    'SJR-index': 0.6,\n",
        "    'H-index': 0.15,\n",
        "    'CiteScore': 0.1,\n",
        "    'Cites/Doc. in 2 years': 0.05,\n",
        "    'Total Cites in 3 years': 0.05,\n",
        "    'Refs./Doc.': 0.05\n",
        "}\n",
        "\n",
        "\n",
        "# Calculate the weighted sum for each observation\n",
        "df1_weighted_sum = df1_standardized.dot(pd.Series(weights))\n",
        "\n",
        "# Add the weighted sum as a new column\n",
        "df1['Weighted Sum'] = df1_weighted_sum\n",
        "\n",
        "# Rank the observations based on the weighted sum\n",
        "df1['New Rank'] = df1_weighted_sum.rank(ascending=False)\n",
        "\n",
        "# Print the updated DataFrame with weights and ranking\n",
        "print(df1)"
      ],
      "metadata": {
        "colab": {
          "base_uri": "https://localhost:8080/"
        },
        "id": "U67nCJPlbjcb",
        "outputId": "5a081c21-6794-412e-ab0b-eca5aedd6231"
      },
      "execution_count": null,
      "outputs": [
        {
          "output_type": "stream",
          "name": "stdout",
          "text": [
            "       SJR-index    H-index  CiteScore  Cites/Doc. in 2 years  \\\n",
            "0      57.956225   2.217100  82.412063              79.279072   \n",
            "1      24.407762   3.704086   2.649279               3.267751   \n",
            "2      22.688913   6.757153  20.633992               8.769483   \n",
            "3      17.450810  12.626002  12.577667              10.989900   \n",
            "4      17.125255  16.960408  16.760759               8.358985   \n",
            "...          ...        ...        ...                    ...   \n",
            "18008  -0.488011  -0.820147  -0.591327              -0.685285   \n",
            "18009  -0.488011  -0.851785  -0.591327              -0.679954   \n",
            "18010  -0.488011  -0.820147  -0.565505              -0.645302   \n",
            "18011  -0.488011  -0.883423  -0.578416              -0.663961   \n",
            "18012  -0.488011  -0.851785  -0.578416              -0.677288   \n",
            "\n",
            "       Total Cites in 3 years  Refs./Doc.  Weighted Sum  New Rank  \n",
            "0                    3.678508    1.803853     47.585578       1.0  \n",
            "1                    0.050257    0.749993     15.668598       4.0  \n",
            "2                    1.491153    1.536487     17.280176       2.0  \n",
            "3                    8.503772    0.719823     14.632828       5.0  \n",
            "4                   17.023602   -1.205837     15.704128       3.0  \n",
            "...                       ...         ...           ...       ...  \n",
            "18008               -0.225432   -1.559898     -0.598492   17156.0  \n",
            "18009               -0.224917   -1.559898     -0.602945   17209.0  \n",
            "18010               -0.224402   -0.600362     -0.545882   16572.0  \n",
            "18011               -0.224917   -1.559898     -0.605600   17228.0  \n",
            "18012               -0.225303   -0.158913     -0.531491   16342.0  \n",
            "\n",
            "[18013 rows x 8 columns]\n"
          ]
        }
      ]
    },
    {
      "cell_type": "markdown",
      "source": [
        "**drop NA rows (For PCA Step)**"
      ],
      "metadata": {
        "id": "e7qJaVbV4Yut"
      }
    },
    {
      "cell_type": "code",
      "source": [
        "#drop NA rows\n",
        "\n",
        "from sklearn.decomposition import PCA\n",
        "import pandas as pd\n",
        "\n",
        "\n",
        "# The weighted metrics should be in columns named 'SJR-index', 'H-index', 'CiteScore', etc.\n",
        "\n",
        "# Extract the weighted metrics from the DataFrame\n",
        "weighted_metrics = df1[['SJR-index', 'H-index', 'CiteScore', 'Cites/Doc. in 2 years',\n",
        "                        'Total Cites in 3 years', 'Refs./Doc.','Weighted Sum']]\n",
        "\n",
        "df1_cleaned = weighted_metrics.dropna().copy()\n",
        "\n",
        "\n",
        "# Now df1_cleaned contains only rows without NaN values\n",
        "print(df1_cleaned)"
      ],
      "metadata": {
        "colab": {
          "base_uri": "https://localhost:8080/"
        },
        "id": "GxklwpArmeoZ",
        "outputId": "6c3ed66b-2923-4a4c-d8fd-e2010d73a04f"
      },
      "execution_count": null,
      "outputs": [
        {
          "output_type": "stream",
          "name": "stdout",
          "text": [
            "       SJR-index    H-index  CiteScore  Cites/Doc. in 2 years  \\\n",
            "0      57.956225   2.217100  82.412063              79.279072   \n",
            "1      24.407762   3.704086   2.649279               3.267751   \n",
            "2      22.688913   6.757153  20.633992               8.769483   \n",
            "3      17.450810  12.626002  12.577667              10.989900   \n",
            "4      17.125255  16.960408  16.760759               8.358985   \n",
            "...          ...        ...        ...                    ...   \n",
            "18008  -0.488011  -0.820147  -0.591327              -0.685285   \n",
            "18009  -0.488011  -0.851785  -0.591327              -0.679954   \n",
            "18010  -0.488011  -0.820147  -0.565505              -0.645302   \n",
            "18011  -0.488011  -0.883423  -0.578416              -0.663961   \n",
            "18012  -0.488011  -0.851785  -0.578416              -0.677288   \n",
            "\n",
            "       Total Cites in 3 years  Refs./Doc.  Weighted Sum  \n",
            "0                    3.678508    1.803853     47.585578  \n",
            "1                    0.050257    0.749993     15.668598  \n",
            "2                    1.491153    1.536487     17.280176  \n",
            "3                    8.503772    0.719823     14.632828  \n",
            "4                   17.023602   -1.205837     15.704128  \n",
            "...                       ...         ...           ...  \n",
            "18008               -0.225432   -1.559898     -0.598492  \n",
            "18009               -0.224917   -1.559898     -0.602945  \n",
            "18010               -0.224402   -0.600362     -0.545882  \n",
            "18011               -0.224917   -1.559898     -0.605600  \n",
            "18012               -0.225303   -0.158913     -0.531491  \n",
            "\n",
            "[17262 rows x 7 columns]\n"
          ]
        }
      ]
    },
    {
      "cell_type": "markdown",
      "source": [
        "**Keep First 5000 Journals only**"
      ],
      "metadata": {
        "id": "GjG_Hq31A-ux"
      }
    },
    {
      "cell_type": "code",
      "source": [
        "df1_first_5000 = df1_cleaned.iloc[:5000].copy()"
      ],
      "metadata": {
        "id": "NKnpNt5PVTRh"
      },
      "execution_count": null,
      "outputs": []
    },
    {
      "cell_type": "code",
      "source": [
        "df1_first_5000"
      ],
      "metadata": {
        "colab": {
          "base_uri": "https://localhost:8080/",
          "height": 423
        },
        "id": "HZVsgez3bmgh",
        "outputId": "648523b4-0443-43cb-b718-48ef620bbb8d"
      },
      "execution_count": null,
      "outputs": [
        {
          "output_type": "execute_result",
          "data": {
            "text/plain": [
              "      SJR-index    H-index  CiteScore  Cites/Doc. in 2 years  \\\n",
              "0     57.956225   2.217100  82.412063              79.279072   \n",
              "1     24.407762   3.704086   2.649279               3.267751   \n",
              "2     22.688913   6.757153  20.633992               8.769483   \n",
              "3     17.450810  12.626002  12.577667              10.989900   \n",
              "4     17.125255  16.960408  16.760759               8.358985   \n",
              "...         ...        ...        ...                    ...   \n",
              "5124   0.002700  -0.266482   0.054212               0.239667   \n",
              "5125   0.002700  -0.393034   0.157498               0.812764   \n",
              "5126   0.002700  -0.646138  -0.100717               0.013094   \n",
              "5127   0.002700   0.002441   0.015480               0.074402   \n",
              "5128   0.002700  -0.535405  -0.216914              -0.064208   \n",
              "\n",
              "      Total Cites in 3 years  Refs./Doc.  Weighted Sum  \n",
              "0                   3.678508    1.803853     47.585578  \n",
              "1                   0.050257    0.749993     15.668598  \n",
              "2                   1.491153    1.536487     17.280176  \n",
              "3                   8.503772    0.719823     14.632828  \n",
              "4                  17.023602   -1.205837     15.704128  \n",
              "...                      ...         ...           ...  \n",
              "5124                0.048712   -0.409287     -0.038976  \n",
              "5125               -0.131947    0.381021      0.011507  \n",
              "5126               -0.153451   -0.067017     -0.115741  \n",
              "5127               -0.149202   -1.559898     -0.078201  \n",
              "5128               -0.219251   -0.406860     -0.134898  \n",
              "\n",
              "[5000 rows x 7 columns]"
            ],
            "text/html": [
              "\n",
              "  <div id=\"df-1196b124-3018-4627-9e78-fcf2096e2944\" class=\"colab-df-container\">\n",
              "    <div>\n",
              "<style scoped>\n",
              "    .dataframe tbody tr th:only-of-type {\n",
              "        vertical-align: middle;\n",
              "    }\n",
              "\n",
              "    .dataframe tbody tr th {\n",
              "        vertical-align: top;\n",
              "    }\n",
              "\n",
              "    .dataframe thead th {\n",
              "        text-align: right;\n",
              "    }\n",
              "</style>\n",
              "<table border=\"1\" class=\"dataframe\">\n",
              "  <thead>\n",
              "    <tr style=\"text-align: right;\">\n",
              "      <th></th>\n",
              "      <th>SJR-index</th>\n",
              "      <th>H-index</th>\n",
              "      <th>CiteScore</th>\n",
              "      <th>Cites/Doc. in 2 years</th>\n",
              "      <th>Total Cites in 3 years</th>\n",
              "      <th>Refs./Doc.</th>\n",
              "      <th>Weighted Sum</th>\n",
              "    </tr>\n",
              "  </thead>\n",
              "  <tbody>\n",
              "    <tr>\n",
              "      <th>0</th>\n",
              "      <td>57.956225</td>\n",
              "      <td>2.217100</td>\n",
              "      <td>82.412063</td>\n",
              "      <td>79.279072</td>\n",
              "      <td>3.678508</td>\n",
              "      <td>1.803853</td>\n",
              "      <td>47.585578</td>\n",
              "    </tr>\n",
              "    <tr>\n",
              "      <th>1</th>\n",
              "      <td>24.407762</td>\n",
              "      <td>3.704086</td>\n",
              "      <td>2.649279</td>\n",
              "      <td>3.267751</td>\n",
              "      <td>0.050257</td>\n",
              "      <td>0.749993</td>\n",
              "      <td>15.668598</td>\n",
              "    </tr>\n",
              "    <tr>\n",
              "      <th>2</th>\n",
              "      <td>22.688913</td>\n",
              "      <td>6.757153</td>\n",
              "      <td>20.633992</td>\n",
              "      <td>8.769483</td>\n",
              "      <td>1.491153</td>\n",
              "      <td>1.536487</td>\n",
              "      <td>17.280176</td>\n",
              "    </tr>\n",
              "    <tr>\n",
              "      <th>3</th>\n",
              "      <td>17.450810</td>\n",
              "      <td>12.626002</td>\n",
              "      <td>12.577667</td>\n",
              "      <td>10.989900</td>\n",
              "      <td>8.503772</td>\n",
              "      <td>0.719823</td>\n",
              "      <td>14.632828</td>\n",
              "    </tr>\n",
              "    <tr>\n",
              "      <th>4</th>\n",
              "      <td>17.125255</td>\n",
              "      <td>16.960408</td>\n",
              "      <td>16.760759</td>\n",
              "      <td>8.358985</td>\n",
              "      <td>17.023602</td>\n",
              "      <td>-1.205837</td>\n",
              "      <td>15.704128</td>\n",
              "    </tr>\n",
              "    <tr>\n",
              "      <th>...</th>\n",
              "      <td>...</td>\n",
              "      <td>...</td>\n",
              "      <td>...</td>\n",
              "      <td>...</td>\n",
              "      <td>...</td>\n",
              "      <td>...</td>\n",
              "      <td>...</td>\n",
              "    </tr>\n",
              "    <tr>\n",
              "      <th>5124</th>\n",
              "      <td>0.002700</td>\n",
              "      <td>-0.266482</td>\n",
              "      <td>0.054212</td>\n",
              "      <td>0.239667</td>\n",
              "      <td>0.048712</td>\n",
              "      <td>-0.409287</td>\n",
              "      <td>-0.038976</td>\n",
              "    </tr>\n",
              "    <tr>\n",
              "      <th>5125</th>\n",
              "      <td>0.002700</td>\n",
              "      <td>-0.393034</td>\n",
              "      <td>0.157498</td>\n",
              "      <td>0.812764</td>\n",
              "      <td>-0.131947</td>\n",
              "      <td>0.381021</td>\n",
              "      <td>0.011507</td>\n",
              "    </tr>\n",
              "    <tr>\n",
              "      <th>5126</th>\n",
              "      <td>0.002700</td>\n",
              "      <td>-0.646138</td>\n",
              "      <td>-0.100717</td>\n",
              "      <td>0.013094</td>\n",
              "      <td>-0.153451</td>\n",
              "      <td>-0.067017</td>\n",
              "      <td>-0.115741</td>\n",
              "    </tr>\n",
              "    <tr>\n",
              "      <th>5127</th>\n",
              "      <td>0.002700</td>\n",
              "      <td>0.002441</td>\n",
              "      <td>0.015480</td>\n",
              "      <td>0.074402</td>\n",
              "      <td>-0.149202</td>\n",
              "      <td>-1.559898</td>\n",
              "      <td>-0.078201</td>\n",
              "    </tr>\n",
              "    <tr>\n",
              "      <th>5128</th>\n",
              "      <td>0.002700</td>\n",
              "      <td>-0.535405</td>\n",
              "      <td>-0.216914</td>\n",
              "      <td>-0.064208</td>\n",
              "      <td>-0.219251</td>\n",
              "      <td>-0.406860</td>\n",
              "      <td>-0.134898</td>\n",
              "    </tr>\n",
              "  </tbody>\n",
              "</table>\n",
              "<p>5000 rows × 7 columns</p>\n",
              "</div>\n",
              "    <div class=\"colab-df-buttons\">\n",
              "\n",
              "  <div class=\"colab-df-container\">\n",
              "    <button class=\"colab-df-convert\" onclick=\"convertToInteractive('df-1196b124-3018-4627-9e78-fcf2096e2944')\"\n",
              "            title=\"Convert this dataframe to an interactive table.\"\n",
              "            style=\"display:none;\">\n",
              "\n",
              "  <svg xmlns=\"http://www.w3.org/2000/svg\" height=\"24px\" viewBox=\"0 -960 960 960\">\n",
              "    <path d=\"M120-120v-720h720v720H120Zm60-500h600v-160H180v160Zm220 220h160v-160H400v160Zm0 220h160v-160H400v160ZM180-400h160v-160H180v160Zm440 0h160v-160H620v160ZM180-180h160v-160H180v160Zm440 0h160v-160H620v160Z\"/>\n",
              "  </svg>\n",
              "    </button>\n",
              "\n",
              "  <style>\n",
              "    .colab-df-container {\n",
              "      display:flex;\n",
              "      gap: 12px;\n",
              "    }\n",
              "\n",
              "    .colab-df-convert {\n",
              "      background-color: #E8F0FE;\n",
              "      border: none;\n",
              "      border-radius: 50%;\n",
              "      cursor: pointer;\n",
              "      display: none;\n",
              "      fill: #1967D2;\n",
              "      height: 32px;\n",
              "      padding: 0 0 0 0;\n",
              "      width: 32px;\n",
              "    }\n",
              "\n",
              "    .colab-df-convert:hover {\n",
              "      background-color: #E2EBFA;\n",
              "      box-shadow: 0px 1px 2px rgba(60, 64, 67, 0.3), 0px 1px 3px 1px rgba(60, 64, 67, 0.15);\n",
              "      fill: #174EA6;\n",
              "    }\n",
              "\n",
              "    .colab-df-buttons div {\n",
              "      margin-bottom: 4px;\n",
              "    }\n",
              "\n",
              "    [theme=dark] .colab-df-convert {\n",
              "      background-color: #3B4455;\n",
              "      fill: #D2E3FC;\n",
              "    }\n",
              "\n",
              "    [theme=dark] .colab-df-convert:hover {\n",
              "      background-color: #434B5C;\n",
              "      box-shadow: 0px 1px 3px 1px rgba(0, 0, 0, 0.15);\n",
              "      filter: drop-shadow(0px 1px 2px rgba(0, 0, 0, 0.3));\n",
              "      fill: #FFFFFF;\n",
              "    }\n",
              "  </style>\n",
              "\n",
              "    <script>\n",
              "      const buttonEl =\n",
              "        document.querySelector('#df-1196b124-3018-4627-9e78-fcf2096e2944 button.colab-df-convert');\n",
              "      buttonEl.style.display =\n",
              "        google.colab.kernel.accessAllowed ? 'block' : 'none';\n",
              "\n",
              "      async function convertToInteractive(key) {\n",
              "        const element = document.querySelector('#df-1196b124-3018-4627-9e78-fcf2096e2944');\n",
              "        const dataTable =\n",
              "          await google.colab.kernel.invokeFunction('convertToInteractive',\n",
              "                                                    [key], {});\n",
              "        if (!dataTable) return;\n",
              "\n",
              "        const docLinkHtml = 'Like what you see? Visit the ' +\n",
              "          '<a target=\"_blank\" href=https://colab.research.google.com/notebooks/data_table.ipynb>data table notebook</a>'\n",
              "          + ' to learn more about interactive tables.';\n",
              "        element.innerHTML = '';\n",
              "        dataTable['output_type'] = 'display_data';\n",
              "        await google.colab.output.renderOutput(dataTable, element);\n",
              "        const docLink = document.createElement('div');\n",
              "        docLink.innerHTML = docLinkHtml;\n",
              "        element.appendChild(docLink);\n",
              "      }\n",
              "    </script>\n",
              "  </div>\n",
              "\n",
              "\n",
              "<div id=\"df-b53e2414-83ed-4379-94dd-081920987892\">\n",
              "  <button class=\"colab-df-quickchart\" onclick=\"quickchart('df-b53e2414-83ed-4379-94dd-081920987892')\"\n",
              "            title=\"Suggest charts\"\n",
              "            style=\"display:none;\">\n",
              "\n",
              "<svg xmlns=\"http://www.w3.org/2000/svg\" height=\"24px\"viewBox=\"0 0 24 24\"\n",
              "     width=\"24px\">\n",
              "    <g>\n",
              "        <path d=\"M19 3H5c-1.1 0-2 .9-2 2v14c0 1.1.9 2 2 2h14c1.1 0 2-.9 2-2V5c0-1.1-.9-2-2-2zM9 17H7v-7h2v7zm4 0h-2V7h2v10zm4 0h-2v-4h2v4z\"/>\n",
              "    </g>\n",
              "</svg>\n",
              "  </button>\n",
              "\n",
              "<style>\n",
              "  .colab-df-quickchart {\n",
              "      --bg-color: #E8F0FE;\n",
              "      --fill-color: #1967D2;\n",
              "      --hover-bg-color: #E2EBFA;\n",
              "      --hover-fill-color: #174EA6;\n",
              "      --disabled-fill-color: #AAA;\n",
              "      --disabled-bg-color: #DDD;\n",
              "  }\n",
              "\n",
              "  [theme=dark] .colab-df-quickchart {\n",
              "      --bg-color: #3B4455;\n",
              "      --fill-color: #D2E3FC;\n",
              "      --hover-bg-color: #434B5C;\n",
              "      --hover-fill-color: #FFFFFF;\n",
              "      --disabled-bg-color: #3B4455;\n",
              "      --disabled-fill-color: #666;\n",
              "  }\n",
              "\n",
              "  .colab-df-quickchart {\n",
              "    background-color: var(--bg-color);\n",
              "    border: none;\n",
              "    border-radius: 50%;\n",
              "    cursor: pointer;\n",
              "    display: none;\n",
              "    fill: var(--fill-color);\n",
              "    height: 32px;\n",
              "    padding: 0;\n",
              "    width: 32px;\n",
              "  }\n",
              "\n",
              "  .colab-df-quickchart:hover {\n",
              "    background-color: var(--hover-bg-color);\n",
              "    box-shadow: 0 1px 2px rgba(60, 64, 67, 0.3), 0 1px 3px 1px rgba(60, 64, 67, 0.15);\n",
              "    fill: var(--button-hover-fill-color);\n",
              "  }\n",
              "\n",
              "  .colab-df-quickchart-complete:disabled,\n",
              "  .colab-df-quickchart-complete:disabled:hover {\n",
              "    background-color: var(--disabled-bg-color);\n",
              "    fill: var(--disabled-fill-color);\n",
              "    box-shadow: none;\n",
              "  }\n",
              "\n",
              "  .colab-df-spinner {\n",
              "    border: 2px solid var(--fill-color);\n",
              "    border-color: transparent;\n",
              "    border-bottom-color: var(--fill-color);\n",
              "    animation:\n",
              "      spin 1s steps(1) infinite;\n",
              "  }\n",
              "\n",
              "  @keyframes spin {\n",
              "    0% {\n",
              "      border-color: transparent;\n",
              "      border-bottom-color: var(--fill-color);\n",
              "      border-left-color: var(--fill-color);\n",
              "    }\n",
              "    20% {\n",
              "      border-color: transparent;\n",
              "      border-left-color: var(--fill-color);\n",
              "      border-top-color: var(--fill-color);\n",
              "    }\n",
              "    30% {\n",
              "      border-color: transparent;\n",
              "      border-left-color: var(--fill-color);\n",
              "      border-top-color: var(--fill-color);\n",
              "      border-right-color: var(--fill-color);\n",
              "    }\n",
              "    40% {\n",
              "      border-color: transparent;\n",
              "      border-right-color: var(--fill-color);\n",
              "      border-top-color: var(--fill-color);\n",
              "    }\n",
              "    60% {\n",
              "      border-color: transparent;\n",
              "      border-right-color: var(--fill-color);\n",
              "    }\n",
              "    80% {\n",
              "      border-color: transparent;\n",
              "      border-right-color: var(--fill-color);\n",
              "      border-bottom-color: var(--fill-color);\n",
              "    }\n",
              "    90% {\n",
              "      border-color: transparent;\n",
              "      border-bottom-color: var(--fill-color);\n",
              "    }\n",
              "  }\n",
              "</style>\n",
              "\n",
              "  <script>\n",
              "    async function quickchart(key) {\n",
              "      const quickchartButtonEl =\n",
              "        document.querySelector('#' + key + ' button');\n",
              "      quickchartButtonEl.disabled = true;  // To prevent multiple clicks.\n",
              "      quickchartButtonEl.classList.add('colab-df-spinner');\n",
              "      try {\n",
              "        const charts = await google.colab.kernel.invokeFunction(\n",
              "            'suggestCharts', [key], {});\n",
              "      } catch (error) {\n",
              "        console.error('Error during call to suggestCharts:', error);\n",
              "      }\n",
              "      quickchartButtonEl.classList.remove('colab-df-spinner');\n",
              "      quickchartButtonEl.classList.add('colab-df-quickchart-complete');\n",
              "    }\n",
              "    (() => {\n",
              "      let quickchartButtonEl =\n",
              "        document.querySelector('#df-b53e2414-83ed-4379-94dd-081920987892 button');\n",
              "      quickchartButtonEl.style.display =\n",
              "        google.colab.kernel.accessAllowed ? 'block' : 'none';\n",
              "    })();\n",
              "  </script>\n",
              "</div>\n",
              "    </div>\n",
              "  </div>\n"
            ],
            "application/vnd.google.colaboratory.intrinsic+json": {
              "type": "dataframe",
              "variable_name": "df1_first_5000",
              "summary": "{\n  \"name\": \"df1_first_5000\",\n  \"rows\": 5000,\n  \"fields\": [\n    {\n      \"column\": \"SJR-index\",\n      \"properties\": {\n        \"dtype\": \"number\",\n        \"std\": 1.6382986842646197,\n        \"min\": 0.0027004722575941567,\n        \"max\": 57.95622503089942,\n        \"num_unique_values\": 2007,\n        \"samples\": [\n          0.03396461432209035,\n          1.4422103177489611,\n          1.8031072620152104\n        ],\n        \"semantic_type\": \"\",\n        \"description\": \"\"\n      }\n    },\n    {\n      \"column\": \"H-index\",\n      \"properties\": {\n        \"dtype\": \"number\",\n        \"std\": 1.3610995017214245,\n        \"min\": -0.8201474577089661,\n        \"max\": 20.14002685093308,\n        \"num_unique_values\": 405,\n        \"samples\": [\n          -0.09247348171082723,\n          -0.503767468144558,\n          5.428357336188097\n        ],\n        \"semantic_type\": \"\",\n        \"description\": \"\"\n      }\n    },\n    {\n      \"column\": \"CiteScore\",\n      \"properties\": {\n        \"dtype\": \"number\",\n        \"std\": 1.6386266807832919,\n        \"min\": -0.48804041265568243,\n        \"max\": 82.41206347143051,\n        \"num_unique_values\": 389,\n        \"samples\": [\n          2.1070259135709684,\n          6.057723902751841,\n          4.392233573979513\n        ],\n        \"semantic_type\": \"\",\n        \"description\": \"\"\n      }\n    },\n    {\n      \"column\": \"Cites/Doc. in 2 years\",\n      \"properties\": {\n        \"dtype\": \"number\",\n        \"std\": 1.5656887330577638,\n        \"min\": -0.6852850811409865,\n        \"max\": 79.27907213085625,\n        \"num_unique_values\": 1235,\n        \"samples\": [\n          0.9913568298009203,\n          1.0473337457465166,\n          1.289900381510767\n        ],\n        \"semantic_type\": \"\",\n        \"description\": \"\"\n      }\n    },\n    {\n      \"column\": \"Total Cites in 3 years\",\n      \"properties\": {\n        \"dtype\": \"number\",\n        \"std\": 1.7404734204843335,\n        \"min\": -0.2237577791296544,\n        \"max\": 39.23902818004872,\n        \"num_unique_values\": 3300,\n        \"samples\": [\n          0.08219122513509047,\n          0.04188733694701592,\n          0.41337844692335807\n        ],\n        \"semantic_type\": \"\",\n        \"description\": \"\"\n      }\n    },\n    {\n      \"column\": \"Refs./Doc.\",\n      \"properties\": {\n        \"dtype\": \"number\",\n        \"std\": 1.2799162839614935,\n        \"min\": -1.5598981456445855,\n        \"max\": 24.90415354948325,\n        \"num_unique_values\": 3679,\n        \"samples\": [\n          0.33628649503679675,\n          0.8477847293098473,\n          0.5041272715711401\n        ],\n        \"semantic_type\": \"\",\n        \"description\": \"\"\n      }\n    },\n    {\n      \"column\": \"Weighted Sum\",\n      \"properties\": {\n        \"dtype\": \"number\",\n        \"std\": 1.3312778513184793,\n        \"min\": -0.20760446324133874,\n        \"max\": 47.585578109048996,\n        \"num_unique_values\": 5000,\n        \"samples\": [\n          0.6932475543815124,\n          0.3544649532293071,\n          0.5579606746889874\n        ],\n        \"semantic_type\": \"\",\n        \"description\": \"\"\n      }\n    }\n  ]\n}"
            }
          },
          "metadata": {},
          "execution_count": 8
        }
      ]
    },
    {
      "cell_type": "markdown",
      "source": [
        "**Compute the Covariance Matrix**"
      ],
      "metadata": {
        "id": "OOtI0jQIBFBo"
      }
    },
    {
      "cell_type": "code",
      "source": [
        "data = df1_first_5000.values\n",
        "\n",
        "\n",
        "covariance_matrix = np.cov(data, bias=True)\n",
        "covariance_matrix = np.round(covariance_matrix, decimals=4)\n",
        "\n",
        "print(\"Covariance Matrix:\")\n",
        "print(covariance_matrix)"
      ],
      "metadata": {
        "colab": {
          "base_uri": "https://localhost:8080/"
        },
        "id": "ce3lz449NSiV",
        "outputId": "e45c2b7d-225f-4d35-f8f8-a6603392cf4e"
      },
      "execution_count": null,
      "outputs": [
        {
          "output_type": "stream",
          "name": "stdout",
          "text": [
            "Covariance Matrix:\n",
            "[[ 1.131953e+03  9.485380e+01  2.067466e+02 ...  3.883800e+00\n",
            "   9.531200e+00  4.270900e+00]\n",
            " [ 9.485380e+01  7.270530e+01  5.186880e+01 ...  4.680000e-01\n",
            "   1.452100e+00  8.899000e-01]\n",
            " [ 2.067466e+02  5.186880e+01  6.731050e+01 ...  4.956000e-01\n",
            "   2.316500e+00  8.471000e-01]\n",
            " ...\n",
            " [ 3.883800e+00  4.680000e-01  4.956000e-01 ...  4.380000e-02\n",
            "  -1.770000e-02  2.910000e-02]\n",
            " [ 9.531200e+00  1.452100e+00  2.316500e+00 ... -1.770000e-02\n",
            "   2.940000e-01  4.110000e-02]\n",
            " [ 4.270900e+00  8.899000e-01  8.471000e-01 ...  2.910000e-02\n",
            "   4.110000e-02  3.080000e-02]]\n"
          ]
        }
      ]
    },
    {
      "cell_type": "code",
      "source": [
        "covariance_matrix.shape"
      ],
      "metadata": {
        "colab": {
          "base_uri": "https://localhost:8080/"
        },
        "id": "FlTgRNY_BQEI",
        "outputId": "5787c248-2b4d-4134-8f72-a6f5ab997a93"
      },
      "execution_count": null,
      "outputs": [
        {
          "output_type": "execute_result",
          "data": {
            "text/plain": [
              "(5000, 5000)"
            ]
          },
          "metadata": {},
          "execution_count": 10
        }
      ]
    },
    {
      "cell_type": "markdown",
      "source": [
        "**compute eigenvalues and eigenvectors**"
      ],
      "metadata": {
        "id": "6Oh5Cw_Nd4IZ"
      }
    },
    {
      "cell_type": "code",
      "source": [
        "eigenvalues, eigenvectors = np.linalg.eig(covariance_matrix)\n",
        "\n",
        "\n",
        "print(\"Eigenvectors:\")\n",
        "print(eigenvectors)\n",
        "print(\"\\nEigenvalues:\")\n",
        "print(eigenvalues)"
      ],
      "metadata": {
        "colab": {
          "base_uri": "https://localhost:8080/"
        },
        "id": "HHCrCiS7Orws",
        "outputId": "91c174c0-f8d1-46a8-e26d-b1ceb746f713"
      },
      "execution_count": null,
      "outputs": [
        {
          "output_type": "stream",
          "name": "stdout",
          "text": [
            "Eigenvectors:\n",
            "[[-5.68716170e-01 -2.88019490e-01 -3.71359929e-01 ... -2.89937287e-03\n",
            "  -1.13446088e-03  1.15316348e-04]\n",
            " [-8.42499752e-02 -6.82468205e-02  8.21173972e-02 ...  1.86895931e-02\n",
            "  -1.03656676e-02  2.19640116e-03]\n",
            " [-1.25520808e-01 -9.26894328e-02  3.17114099e-02 ...  1.32939650e-02\n",
            "   8.21537131e-03 -2.20954871e-04]\n",
            " ...\n",
            " [-1.97864578e-03  9.42531641e-04 -5.28612564e-03 ...  2.41285305e-02\n",
            "  -7.52647517e-03 -3.69545664e-03]\n",
            " [-2.35546200e-03 -1.30953975e-02  9.55870627e-04 ... -4.78842401e-03\n",
            "  -2.45932150e-02 -7.90624556e-03]\n",
            " [-1.89646000e-03 -1.78188235e-03 -3.11693077e-03 ...  1.19075679e-02\n",
            "   1.02437197e-02 -8.03846460e-03]]\n",
            "\n",
            "Eigenvalues:\n",
            "[ 2.62710453e+03  1.55159347e+03  9.06633575e+02 ... -6.38227009e-05\n",
            " -6.25052915e-05 -1.18563320e-04]\n"
          ]
        }
      ]
    },
    {
      "cell_type": "code",
      "source": [
        "eigenvalues.shape"
      ],
      "metadata": {
        "colab": {
          "base_uri": "https://localhost:8080/"
        },
        "id": "OWXsR3ZUsrLJ",
        "outputId": "1b8b2477-c041-4777-b46c-3dca3bc9813b"
      },
      "execution_count": null,
      "outputs": [
        {
          "output_type": "execute_result",
          "data": {
            "text/plain": [
              "(5000,)"
            ]
          },
          "metadata": {},
          "execution_count": 12
        }
      ]
    },
    {
      "cell_type": "code",
      "source": [
        "eigenvectors.shape"
      ],
      "metadata": {
        "colab": {
          "base_uri": "https://localhost:8080/"
        },
        "id": "AX9MzrrLsnPm",
        "outputId": "2c14f6f2-3b0d-432f-9da6-78dcc446384e"
      },
      "execution_count": null,
      "outputs": [
        {
          "output_type": "execute_result",
          "data": {
            "text/plain": [
              "(5000, 5000)"
            ]
          },
          "metadata": {},
          "execution_count": 13
        }
      ]
    },
    {
      "cell_type": "code",
      "source": [
        "\n",
        "\n",
        "# Assuming you have eigenvalues stored in 'eigenvalues'\n",
        "total_variance = np.sum(eigenvalues)\n",
        "explained_variance_ratio = eigenvalues / total_variance\n",
        "cumulative_explained_variance = np.cumsum(explained_variance_ratio)\n",
        "\n",
        "# Determine the number of components to retain (e.g., 95% explained variance)\n",
        "threshold = 0.95\n",
        "num_components_to_retain = np.argmax(cumulative_explained_variance >= threshold) + 1\n",
        "\n",
        "print(f\"Number of components to retain for {threshold*100:.2f}% explained variance: {num_components_to_retain}\")"
      ],
      "metadata": {
        "colab": {
          "base_uri": "https://localhost:8080/"
        },
        "id": "-SzXuxgdUaEp",
        "outputId": "263fb6ce-335a-45e6-bc91-3cd09223891f"
      },
      "execution_count": null,
      "outputs": [
        {
          "output_type": "stream",
          "name": "stdout",
          "text": [
            "Number of components to retain for 95.00% explained variance: 4\n"
          ]
        }
      ]
    },
    {
      "cell_type": "code",
      "source": [
        "# Assuming you have eigenvalues stored in 'eigenvalues'\n",
        "total_variance = np.sum(eigenvalues)\n",
        "explained_variance_ratio = eigenvalues / total_variance\n",
        "cumulative_explained_variance = np.cumsum(explained_variance_ratio)\n",
        "\n",
        "# Calculate the cumulative explained variance of the fourth component\n",
        "fourth_component_cumulative_variance = cumulative_explained_variance[3]\n",
        "\n",
        "# Calculate the percentage of cumulative explained variance for the fourth component over all components\n",
        "percentage_fourth_component_cumulative_variance = (fourth_component_cumulative_variance / cumulative_explained_variance[-1]) * 100\n",
        "\n",
        "# Print the percentage of cumulative explained variance for the fourth component over all components\n",
        "print(f\"Percentage of cumulative explained variance for the fourth component over all components: {percentage_fourth_component_cumulative_variance:.2f}%\")"
      ],
      "metadata": {
        "colab": {
          "base_uri": "https://localhost:8080/"
        },
        "id": "bFPCc3TGAoxg",
        "outputId": "3f1c7ed2-ebd4-46b5-d579-c859d315a654"
      },
      "execution_count": null,
      "outputs": [
        {
          "output_type": "stream",
          "name": "stdout",
          "text": [
            "Percentage of cumulative explained variance for the fourth component over all components: 98.14%\n"
          ]
        }
      ]
    },
    {
      "cell_type": "markdown",
      "source": [
        "**Feature Vectors = data * eigenvectors.T**\n"
      ],
      "metadata": {
        "id": "twOwkSMBO9Lb"
      }
    },
    {
      "cell_type": "code",
      "source": [
        "num_components_to_retain = 7\n",
        "\n",
        "\n",
        "top_eigenvectors = eigenvectors[:, :num_components_to_retain]\n",
        "\n",
        "\n",
        "feature_vectors = np.dot(df1_first_5000, top_eigenvectors.T)  # Transpose the eigenvectors matrix\n",
        "\n",
        "print(\"Feature Vectors (Transformed Data):\")\n",
        "print(feature_vectors)"
      ],
      "metadata": {
        "colab": {
          "base_uri": "https://localhost:8080/"
        },
        "id": "yWd_OyWMWXYR",
        "outputId": "59dcbf48-dc4f-40ba-a6d1-094077fb974d"
      },
      "execution_count": null,
      "outputs": [
        {
          "output_type": "stream",
          "name": "stdout",
          "text": [
            "Feature Vectors (Transformed Data):\n",
            "[[-8.50840401e+01  2.77413482e+01  4.64874015e+00 ... -8.64867486e-01\n",
            "  -1.66750507e+00 -1.04658569e-01]\n",
            " [-1.66678081e+01 -8.03325364e-01 -2.73676327e+00 ... -2.54354147e-01\n",
            "  -5.20517744e-01 -6.23235003e-02]\n",
            " [-2.47841982e+01  2.57516500e+00 -1.87906673e+00 ... -3.34048156e-01\n",
            "  -6.07792217e-01 -1.03377776e-01]\n",
            " ...\n",
            " [ 2.26912254e-01  1.43563599e-02  9.29808842e-02 ...  6.57847975e-04\n",
            "   1.11369870e-02  1.55239647e-03]\n",
            " [-2.28024121e-02 -4.48056722e-02  6.07395865e-02 ... -1.07559337e-02\n",
            "   1.88074982e-02  1.74791324e-02]\n",
            " [ 2.61840993e-01 -4.65443236e-02  8.84799671e-02 ... -1.37095117e-03\n",
            "   1.40073920e-02  5.04097823e-03]]\n"
          ]
        }
      ]
    },
    {
      "cell_type": "code",
      "source": [
        "feature_vectors.shape"
      ],
      "metadata": {
        "colab": {
          "base_uri": "https://localhost:8080/"
        },
        "id": "vvRkInkDtkYW",
        "outputId": "97422d2c-31eb-49a0-b454-15bb15e660eb"
      },
      "execution_count": null,
      "outputs": [
        {
          "output_type": "execute_result",
          "data": {
            "text/plain": [
              "(5000, 5000)"
            ]
          },
          "metadata": {},
          "execution_count": 17
        }
      ]
    },
    {
      "cell_type": "markdown",
      "source": [
        "**Get the Normalised Weights for Principal Components**"
      ],
      "metadata": {
        "id": "J-FbvkFCPoMC"
      }
    },
    {
      "cell_type": "code",
      "source": [
        "normalized_loadings = eigenvectors / np.sum(np.abs(eigenvectors), axis=0)\n",
        "\n",
        "weights = normalized_loadings / np.sum(normalized_loadings)\n",
        "\n",
        "print(\"Weights for Principal Components:\")\n",
        "print(weights)"
      ],
      "metadata": {
        "colab": {
          "base_uri": "https://localhost:8080/"
        },
        "id": "p3S3DDLrZ6Zw",
        "outputId": "ee541231-28fd-497f-e59c-76d52154c687"
      },
      "execution_count": null,
      "outputs": [
        {
          "output_type": "stream",
          "name": "stdout",
          "text": [
            "Weights for Principal Components:\n",
            "[[ 4.19882159e-02  1.45813646e-02  1.73837089e-02 ...  1.01576825e-04\n",
            "   3.96845928e-05 -4.03121081e-06]\n",
            " [ 6.22016100e-03  3.45508484e-03 -3.84399289e-03 ... -6.54772469e-04\n",
            "   3.62601570e-04 -7.67814473e-05]\n",
            " [ 9.26717941e-03  4.69252416e-03 -1.48444103e-03 ... -4.65741669e-04\n",
            "  -2.87382025e-04  7.72410575e-06]\n",
            " ...\n",
            " [ 1.46083073e-04 -4.77169011e-05  2.47448532e-04 ... -8.45320572e-04\n",
            "   2.63283739e-04  1.29185194e-04]\n",
            " [ 1.73903350e-04  6.62971684e-04 -4.47452065e-05 ...  1.67757971e-04\n",
            "   8.60295617e-04  2.76385293e-04]\n",
            " [ 1.40015311e-04  9.02101320e-05  1.45906472e-04 ... -4.17170540e-04\n",
            "  -3.58335710e-04  2.81007385e-04]]\n"
          ]
        }
      ]
    },
    {
      "cell_type": "code",
      "source": [
        "weights.shape"
      ],
      "metadata": {
        "colab": {
          "base_uri": "https://localhost:8080/"
        },
        "id": "5xU0Hlt1tq-X",
        "outputId": "ff826c5c-025b-403b-957f-ed02b7c27dcf"
      },
      "execution_count": null,
      "outputs": [
        {
          "output_type": "execute_result",
          "data": {
            "text/plain": [
              "(5000, 5000)"
            ]
          },
          "metadata": {},
          "execution_count": 19
        }
      ]
    },
    {
      "cell_type": "markdown",
      "source": [
        "**weighted_scores = feature_vectors * weights**"
      ],
      "metadata": {
        "id": "A25JvJOrQdXZ"
      }
    },
    {
      "cell_type": "code",
      "source": [
        "weighted_scores = np.dot(feature_vectors, weights)\n",
        "\n",
        "weighted_scores"
      ],
      "metadata": {
        "colab": {
          "base_uri": "https://localhost:8080/"
        },
        "id": "nSnlJbwtZ6b6",
        "outputId": "1318f3d1-5479-457d-8fb5-a6c157407222"
      },
      "execution_count": null,
      "outputs": [
        {
          "output_type": "execute_result",
          "data": {
            "text/plain": [
              "array([[-4.27889801e+00, -1.12243619e-01, -3.85778649e+00, ...,\n",
              "         3.79132836e-12,  1.27284901e-12, -2.82809887e-12],\n",
              "       [-1.80202079e+00, -1.87524234e-01, -1.24015231e-01, ...,\n",
              "         1.24726444e-12,  4.20675322e-13, -9.29840840e-13],\n",
              "       [-1.67511853e+00, -3.42089752e-01, -9.65896644e-01, ...,\n",
              "         1.37034221e-12,  4.71390722e-13, -1.01899478e-12],\n",
              "       ...,\n",
              "       [-1.99375397e-04,  3.27116076e-02,  4.71466162e-03, ...,\n",
              "        -8.76122939e-15, -3.75095631e-15,  6.30745456e-15],\n",
              "       [-1.99375397e-04, -1.23554282e-04, -7.24629637e-04, ...,\n",
              "         5.18424821e-15, -1.83903626e-14, -9.55373205e-15],\n",
              "       [-1.99375397e-04,  2.71056043e-02,  1.01539529e-02, ...,\n",
              "        -7.80101081e-15, -7.81385861e-15,  4.35254995e-15]])"
            ]
          },
          "metadata": {},
          "execution_count": 20
        }
      ]
    },
    {
      "cell_type": "code",
      "source": [
        "column_sums = np.sum(weighted_scores, axis=0)\n",
        "column_sums"
      ],
      "metadata": {
        "colab": {
          "base_uri": "https://localhost:8080/"
        },
        "id": "_xrPAhJUYtzK",
        "outputId": "211896de-2496-4077-a779-5f23c859c24c"
      },
      "execution_count": null,
      "outputs": [
        {
          "output_type": "execute_result",
          "data": {
            "text/plain": [
              "array([-2.68976466e+02, -2.17126422e+02, -1.57218459e+02, ...,\n",
              "        2.67825824e-10,  1.19888554e-10, -1.91323774e-10])"
            ]
          },
          "metadata": {},
          "execution_count": 21
        }
      ]
    },
    {
      "cell_type": "code",
      "source": [
        "column_sums_vertical = column_sums.reshape(-1, 1)\n"
      ],
      "metadata": {
        "id": "dX8O0IeaZAao"
      },
      "execution_count": null,
      "outputs": []
    },
    {
      "cell_type": "code",
      "source": [
        "column_sums_vertical"
      ],
      "metadata": {
        "colab": {
          "base_uri": "https://localhost:8080/"
        },
        "id": "9wQhA6xEZbBg",
        "outputId": "7ca994dd-7d3f-4b36-f4b8-21b710e94267"
      },
      "execution_count": null,
      "outputs": [
        {
          "output_type": "execute_result",
          "data": {
            "text/plain": [
              "array([[-2.68976466e+02],\n",
              "       [-2.17126422e+02],\n",
              "       [-1.57218459e+02],\n",
              "       ...,\n",
              "       [ 2.67825824e-10],\n",
              "       [ 1.19888554e-10],\n",
              "       [-1.91323774e-10]])"
            ]
          },
          "metadata": {},
          "execution_count": 23
        }
      ]
    },
    {
      "cell_type": "code",
      "source": [
        "df1_first_5000['Distributed Weights Rank']= df1['New Rank']"
      ],
      "metadata": {
        "id": "ivCCBfOjqI6V"
      },
      "execution_count": null,
      "outputs": []
    },
    {
      "cell_type": "code",
      "source": [
        "df1_first_5000['Column_Sums'] = column_sums_vertical"
      ],
      "metadata": {
        "id": "XUKlNQD5c1zf"
      },
      "execution_count": null,
      "outputs": []
    },
    {
      "cell_type": "code",
      "source": [
        "df1_first_5000['Rank (PCA)'] = df1_first_5000['Column_Sums'].rank()"
      ],
      "metadata": {
        "id": "-LTrjZJTdZcU"
      },
      "execution_count": null,
      "outputs": []
    },
    {
      "cell_type": "code",
      "source": [
        "df1_first_5000"
      ],
      "metadata": {
        "colab": {
          "base_uri": "https://localhost:8080/",
          "height": 441
        },
        "id": "C48dbV1jc13S",
        "outputId": "8e6ee6b5-973c-4d2f-c499-8a8f21113c5f"
      },
      "execution_count": null,
      "outputs": [
        {
          "output_type": "execute_result",
          "data": {
            "text/plain": [
              "      SJR-index    H-index  CiteScore  Cites/Doc. in 2 years  \\\n",
              "0     57.956225   2.217100  82.412063              79.279072   \n",
              "1     24.407762   3.704086   2.649279               3.267751   \n",
              "2     22.688913   6.757153  20.633992               8.769483   \n",
              "3     17.450810  12.626002  12.577667              10.989900   \n",
              "4     17.125255  16.960408  16.760759               8.358985   \n",
              "...         ...        ...        ...                    ...   \n",
              "5124   0.002700  -0.266482   0.054212               0.239667   \n",
              "5125   0.002700  -0.393034   0.157498               0.812764   \n",
              "5126   0.002700  -0.646138  -0.100717               0.013094   \n",
              "5127   0.002700   0.002441   0.015480               0.074402   \n",
              "5128   0.002700  -0.535405  -0.216914              -0.064208   \n",
              "\n",
              "      Total Cites in 3 years  Refs./Doc.  Weighted Sum  \\\n",
              "0                   3.678508    1.803853     47.585578   \n",
              "1                   0.050257    0.749993     15.668598   \n",
              "2                   1.491153    1.536487     17.280176   \n",
              "3                   8.503772    0.719823     14.632828   \n",
              "4                  17.023602   -1.205837     15.704128   \n",
              "...                      ...         ...           ...   \n",
              "5124                0.048712   -0.409287     -0.038976   \n",
              "5125               -0.131947    0.381021      0.011507   \n",
              "5126               -0.153451   -0.067017     -0.115741   \n",
              "5127               -0.149202   -1.559898     -0.078201   \n",
              "5128               -0.219251   -0.406860     -0.134898   \n",
              "\n",
              "      Distributed Weights Rank   Column_Sums  Rank (PCA)  \n",
              "0                          1.0 -2.689765e+02         1.0  \n",
              "1                          4.0 -2.171264e+02         2.0  \n",
              "2                          2.0 -1.572185e+02         4.0  \n",
              "3                          5.0 -1.879241e+02         3.0  \n",
              "4                          3.0 -9.246132e+01         6.0  \n",
              "...                        ...           ...         ...  \n",
              "5124                    6329.0  9.175521e-11      3697.0  \n",
              "5125                    5593.0  1.587479e-10      4229.0  \n",
              "5126                    7495.0  2.678258e-10      4664.0  \n",
              "5127                    6908.0  1.198886e-10      3945.0  \n",
              "5128                    7806.0 -1.913238e-10       583.0  \n",
              "\n",
              "[5000 rows x 10 columns]"
            ],
            "text/html": [
              "\n",
              "  <div id=\"df-f5f0bfd9-548f-440b-a590-1d973a9cb5a3\" class=\"colab-df-container\">\n",
              "    <div>\n",
              "<style scoped>\n",
              "    .dataframe tbody tr th:only-of-type {\n",
              "        vertical-align: middle;\n",
              "    }\n",
              "\n",
              "    .dataframe tbody tr th {\n",
              "        vertical-align: top;\n",
              "    }\n",
              "\n",
              "    .dataframe thead th {\n",
              "        text-align: right;\n",
              "    }\n",
              "</style>\n",
              "<table border=\"1\" class=\"dataframe\">\n",
              "  <thead>\n",
              "    <tr style=\"text-align: right;\">\n",
              "      <th></th>\n",
              "      <th>SJR-index</th>\n",
              "      <th>H-index</th>\n",
              "      <th>CiteScore</th>\n",
              "      <th>Cites/Doc. in 2 years</th>\n",
              "      <th>Total Cites in 3 years</th>\n",
              "      <th>Refs./Doc.</th>\n",
              "      <th>Weighted Sum</th>\n",
              "      <th>Distributed Weights Rank</th>\n",
              "      <th>Column_Sums</th>\n",
              "      <th>Rank (PCA)</th>\n",
              "    </tr>\n",
              "  </thead>\n",
              "  <tbody>\n",
              "    <tr>\n",
              "      <th>0</th>\n",
              "      <td>57.956225</td>\n",
              "      <td>2.217100</td>\n",
              "      <td>82.412063</td>\n",
              "      <td>79.279072</td>\n",
              "      <td>3.678508</td>\n",
              "      <td>1.803853</td>\n",
              "      <td>47.585578</td>\n",
              "      <td>1.0</td>\n",
              "      <td>-2.689765e+02</td>\n",
              "      <td>1.0</td>\n",
              "    </tr>\n",
              "    <tr>\n",
              "      <th>1</th>\n",
              "      <td>24.407762</td>\n",
              "      <td>3.704086</td>\n",
              "      <td>2.649279</td>\n",
              "      <td>3.267751</td>\n",
              "      <td>0.050257</td>\n",
              "      <td>0.749993</td>\n",
              "      <td>15.668598</td>\n",
              "      <td>4.0</td>\n",
              "      <td>-2.171264e+02</td>\n",
              "      <td>2.0</td>\n",
              "    </tr>\n",
              "    <tr>\n",
              "      <th>2</th>\n",
              "      <td>22.688913</td>\n",
              "      <td>6.757153</td>\n",
              "      <td>20.633992</td>\n",
              "      <td>8.769483</td>\n",
              "      <td>1.491153</td>\n",
              "      <td>1.536487</td>\n",
              "      <td>17.280176</td>\n",
              "      <td>2.0</td>\n",
              "      <td>-1.572185e+02</td>\n",
              "      <td>4.0</td>\n",
              "    </tr>\n",
              "    <tr>\n",
              "      <th>3</th>\n",
              "      <td>17.450810</td>\n",
              "      <td>12.626002</td>\n",
              "      <td>12.577667</td>\n",
              "      <td>10.989900</td>\n",
              "      <td>8.503772</td>\n",
              "      <td>0.719823</td>\n",
              "      <td>14.632828</td>\n",
              "      <td>5.0</td>\n",
              "      <td>-1.879241e+02</td>\n",
              "      <td>3.0</td>\n",
              "    </tr>\n",
              "    <tr>\n",
              "      <th>4</th>\n",
              "      <td>17.125255</td>\n",
              "      <td>16.960408</td>\n",
              "      <td>16.760759</td>\n",
              "      <td>8.358985</td>\n",
              "      <td>17.023602</td>\n",
              "      <td>-1.205837</td>\n",
              "      <td>15.704128</td>\n",
              "      <td>3.0</td>\n",
              "      <td>-9.246132e+01</td>\n",
              "      <td>6.0</td>\n",
              "    </tr>\n",
              "    <tr>\n",
              "      <th>...</th>\n",
              "      <td>...</td>\n",
              "      <td>...</td>\n",
              "      <td>...</td>\n",
              "      <td>...</td>\n",
              "      <td>...</td>\n",
              "      <td>...</td>\n",
              "      <td>...</td>\n",
              "      <td>...</td>\n",
              "      <td>...</td>\n",
              "      <td>...</td>\n",
              "    </tr>\n",
              "    <tr>\n",
              "      <th>5124</th>\n",
              "      <td>0.002700</td>\n",
              "      <td>-0.266482</td>\n",
              "      <td>0.054212</td>\n",
              "      <td>0.239667</td>\n",
              "      <td>0.048712</td>\n",
              "      <td>-0.409287</td>\n",
              "      <td>-0.038976</td>\n",
              "      <td>6329.0</td>\n",
              "      <td>9.175521e-11</td>\n",
              "      <td>3697.0</td>\n",
              "    </tr>\n",
              "    <tr>\n",
              "      <th>5125</th>\n",
              "      <td>0.002700</td>\n",
              "      <td>-0.393034</td>\n",
              "      <td>0.157498</td>\n",
              "      <td>0.812764</td>\n",
              "      <td>-0.131947</td>\n",
              "      <td>0.381021</td>\n",
              "      <td>0.011507</td>\n",
              "      <td>5593.0</td>\n",
              "      <td>1.587479e-10</td>\n",
              "      <td>4229.0</td>\n",
              "    </tr>\n",
              "    <tr>\n",
              "      <th>5126</th>\n",
              "      <td>0.002700</td>\n",
              "      <td>-0.646138</td>\n",
              "      <td>-0.100717</td>\n",
              "      <td>0.013094</td>\n",
              "      <td>-0.153451</td>\n",
              "      <td>-0.067017</td>\n",
              "      <td>-0.115741</td>\n",
              "      <td>7495.0</td>\n",
              "      <td>2.678258e-10</td>\n",
              "      <td>4664.0</td>\n",
              "    </tr>\n",
              "    <tr>\n",
              "      <th>5127</th>\n",
              "      <td>0.002700</td>\n",
              "      <td>0.002441</td>\n",
              "      <td>0.015480</td>\n",
              "      <td>0.074402</td>\n",
              "      <td>-0.149202</td>\n",
              "      <td>-1.559898</td>\n",
              "      <td>-0.078201</td>\n",
              "      <td>6908.0</td>\n",
              "      <td>1.198886e-10</td>\n",
              "      <td>3945.0</td>\n",
              "    </tr>\n",
              "    <tr>\n",
              "      <th>5128</th>\n",
              "      <td>0.002700</td>\n",
              "      <td>-0.535405</td>\n",
              "      <td>-0.216914</td>\n",
              "      <td>-0.064208</td>\n",
              "      <td>-0.219251</td>\n",
              "      <td>-0.406860</td>\n",
              "      <td>-0.134898</td>\n",
              "      <td>7806.0</td>\n",
              "      <td>-1.913238e-10</td>\n",
              "      <td>583.0</td>\n",
              "    </tr>\n",
              "  </tbody>\n",
              "</table>\n",
              "<p>5000 rows × 10 columns</p>\n",
              "</div>\n",
              "    <div class=\"colab-df-buttons\">\n",
              "\n",
              "  <div class=\"colab-df-container\">\n",
              "    <button class=\"colab-df-convert\" onclick=\"convertToInteractive('df-f5f0bfd9-548f-440b-a590-1d973a9cb5a3')\"\n",
              "            title=\"Convert this dataframe to an interactive table.\"\n",
              "            style=\"display:none;\">\n",
              "\n",
              "  <svg xmlns=\"http://www.w3.org/2000/svg\" height=\"24px\" viewBox=\"0 -960 960 960\">\n",
              "    <path d=\"M120-120v-720h720v720H120Zm60-500h600v-160H180v160Zm220 220h160v-160H400v160Zm0 220h160v-160H400v160ZM180-400h160v-160H180v160Zm440 0h160v-160H620v160ZM180-180h160v-160H180v160Zm440 0h160v-160H620v160Z\"/>\n",
              "  </svg>\n",
              "    </button>\n",
              "\n",
              "  <style>\n",
              "    .colab-df-container {\n",
              "      display:flex;\n",
              "      gap: 12px;\n",
              "    }\n",
              "\n",
              "    .colab-df-convert {\n",
              "      background-color: #E8F0FE;\n",
              "      border: none;\n",
              "      border-radius: 50%;\n",
              "      cursor: pointer;\n",
              "      display: none;\n",
              "      fill: #1967D2;\n",
              "      height: 32px;\n",
              "      padding: 0 0 0 0;\n",
              "      width: 32px;\n",
              "    }\n",
              "\n",
              "    .colab-df-convert:hover {\n",
              "      background-color: #E2EBFA;\n",
              "      box-shadow: 0px 1px 2px rgba(60, 64, 67, 0.3), 0px 1px 3px 1px rgba(60, 64, 67, 0.15);\n",
              "      fill: #174EA6;\n",
              "    }\n",
              "\n",
              "    .colab-df-buttons div {\n",
              "      margin-bottom: 4px;\n",
              "    }\n",
              "\n",
              "    [theme=dark] .colab-df-convert {\n",
              "      background-color: #3B4455;\n",
              "      fill: #D2E3FC;\n",
              "    }\n",
              "\n",
              "    [theme=dark] .colab-df-convert:hover {\n",
              "      background-color: #434B5C;\n",
              "      box-shadow: 0px 1px 3px 1px rgba(0, 0, 0, 0.15);\n",
              "      filter: drop-shadow(0px 1px 2px rgba(0, 0, 0, 0.3));\n",
              "      fill: #FFFFFF;\n",
              "    }\n",
              "  </style>\n",
              "\n",
              "    <script>\n",
              "      const buttonEl =\n",
              "        document.querySelector('#df-f5f0bfd9-548f-440b-a590-1d973a9cb5a3 button.colab-df-convert');\n",
              "      buttonEl.style.display =\n",
              "        google.colab.kernel.accessAllowed ? 'block' : 'none';\n",
              "\n",
              "      async function convertToInteractive(key) {\n",
              "        const element = document.querySelector('#df-f5f0bfd9-548f-440b-a590-1d973a9cb5a3');\n",
              "        const dataTable =\n",
              "          await google.colab.kernel.invokeFunction('convertToInteractive',\n",
              "                                                    [key], {});\n",
              "        if (!dataTable) return;\n",
              "\n",
              "        const docLinkHtml = 'Like what you see? Visit the ' +\n",
              "          '<a target=\"_blank\" href=https://colab.research.google.com/notebooks/data_table.ipynb>data table notebook</a>'\n",
              "          + ' to learn more about interactive tables.';\n",
              "        element.innerHTML = '';\n",
              "        dataTable['output_type'] = 'display_data';\n",
              "        await google.colab.output.renderOutput(dataTable, element);\n",
              "        const docLink = document.createElement('div');\n",
              "        docLink.innerHTML = docLinkHtml;\n",
              "        element.appendChild(docLink);\n",
              "      }\n",
              "    </script>\n",
              "  </div>\n",
              "\n",
              "\n",
              "<div id=\"df-76a71e91-853e-4d3a-ba17-ac352d07e003\">\n",
              "  <button class=\"colab-df-quickchart\" onclick=\"quickchart('df-76a71e91-853e-4d3a-ba17-ac352d07e003')\"\n",
              "            title=\"Suggest charts\"\n",
              "            style=\"display:none;\">\n",
              "\n",
              "<svg xmlns=\"http://www.w3.org/2000/svg\" height=\"24px\"viewBox=\"0 0 24 24\"\n",
              "     width=\"24px\">\n",
              "    <g>\n",
              "        <path d=\"M19 3H5c-1.1 0-2 .9-2 2v14c0 1.1.9 2 2 2h14c1.1 0 2-.9 2-2V5c0-1.1-.9-2-2-2zM9 17H7v-7h2v7zm4 0h-2V7h2v10zm4 0h-2v-4h2v4z\"/>\n",
              "    </g>\n",
              "</svg>\n",
              "  </button>\n",
              "\n",
              "<style>\n",
              "  .colab-df-quickchart {\n",
              "      --bg-color: #E8F0FE;\n",
              "      --fill-color: #1967D2;\n",
              "      --hover-bg-color: #E2EBFA;\n",
              "      --hover-fill-color: #174EA6;\n",
              "      --disabled-fill-color: #AAA;\n",
              "      --disabled-bg-color: #DDD;\n",
              "  }\n",
              "\n",
              "  [theme=dark] .colab-df-quickchart {\n",
              "      --bg-color: #3B4455;\n",
              "      --fill-color: #D2E3FC;\n",
              "      --hover-bg-color: #434B5C;\n",
              "      --hover-fill-color: #FFFFFF;\n",
              "      --disabled-bg-color: #3B4455;\n",
              "      --disabled-fill-color: #666;\n",
              "  }\n",
              "\n",
              "  .colab-df-quickchart {\n",
              "    background-color: var(--bg-color);\n",
              "    border: none;\n",
              "    border-radius: 50%;\n",
              "    cursor: pointer;\n",
              "    display: none;\n",
              "    fill: var(--fill-color);\n",
              "    height: 32px;\n",
              "    padding: 0;\n",
              "    width: 32px;\n",
              "  }\n",
              "\n",
              "  .colab-df-quickchart:hover {\n",
              "    background-color: var(--hover-bg-color);\n",
              "    box-shadow: 0 1px 2px rgba(60, 64, 67, 0.3), 0 1px 3px 1px rgba(60, 64, 67, 0.15);\n",
              "    fill: var(--button-hover-fill-color);\n",
              "  }\n",
              "\n",
              "  .colab-df-quickchart-complete:disabled,\n",
              "  .colab-df-quickchart-complete:disabled:hover {\n",
              "    background-color: var(--disabled-bg-color);\n",
              "    fill: var(--disabled-fill-color);\n",
              "    box-shadow: none;\n",
              "  }\n",
              "\n",
              "  .colab-df-spinner {\n",
              "    border: 2px solid var(--fill-color);\n",
              "    border-color: transparent;\n",
              "    border-bottom-color: var(--fill-color);\n",
              "    animation:\n",
              "      spin 1s steps(1) infinite;\n",
              "  }\n",
              "\n",
              "  @keyframes spin {\n",
              "    0% {\n",
              "      border-color: transparent;\n",
              "      border-bottom-color: var(--fill-color);\n",
              "      border-left-color: var(--fill-color);\n",
              "    }\n",
              "    20% {\n",
              "      border-color: transparent;\n",
              "      border-left-color: var(--fill-color);\n",
              "      border-top-color: var(--fill-color);\n",
              "    }\n",
              "    30% {\n",
              "      border-color: transparent;\n",
              "      border-left-color: var(--fill-color);\n",
              "      border-top-color: var(--fill-color);\n",
              "      border-right-color: var(--fill-color);\n",
              "    }\n",
              "    40% {\n",
              "      border-color: transparent;\n",
              "      border-right-color: var(--fill-color);\n",
              "      border-top-color: var(--fill-color);\n",
              "    }\n",
              "    60% {\n",
              "      border-color: transparent;\n",
              "      border-right-color: var(--fill-color);\n",
              "    }\n",
              "    80% {\n",
              "      border-color: transparent;\n",
              "      border-right-color: var(--fill-color);\n",
              "      border-bottom-color: var(--fill-color);\n",
              "    }\n",
              "    90% {\n",
              "      border-color: transparent;\n",
              "      border-bottom-color: var(--fill-color);\n",
              "    }\n",
              "  }\n",
              "</style>\n",
              "\n",
              "  <script>\n",
              "    async function quickchart(key) {\n",
              "      const quickchartButtonEl =\n",
              "        document.querySelector('#' + key + ' button');\n",
              "      quickchartButtonEl.disabled = true;  // To prevent multiple clicks.\n",
              "      quickchartButtonEl.classList.add('colab-df-spinner');\n",
              "      try {\n",
              "        const charts = await google.colab.kernel.invokeFunction(\n",
              "            'suggestCharts', [key], {});\n",
              "      } catch (error) {\n",
              "        console.error('Error during call to suggestCharts:', error);\n",
              "      }\n",
              "      quickchartButtonEl.classList.remove('colab-df-spinner');\n",
              "      quickchartButtonEl.classList.add('colab-df-quickchart-complete');\n",
              "    }\n",
              "    (() => {\n",
              "      let quickchartButtonEl =\n",
              "        document.querySelector('#df-76a71e91-853e-4d3a-ba17-ac352d07e003 button');\n",
              "      quickchartButtonEl.style.display =\n",
              "        google.colab.kernel.accessAllowed ? 'block' : 'none';\n",
              "    })();\n",
              "  </script>\n",
              "</div>\n",
              "    </div>\n",
              "  </div>\n"
            ],
            "application/vnd.google.colaboratory.intrinsic+json": {
              "type": "dataframe",
              "variable_name": "df1_first_5000",
              "summary": "{\n  \"name\": \"df1_first_5000\",\n  \"rows\": 5000,\n  \"fields\": [\n    {\n      \"column\": \"SJR-index\",\n      \"properties\": {\n        \"dtype\": \"number\",\n        \"std\": 1.6382986842646197,\n        \"min\": 0.0027004722575941567,\n        \"max\": 57.95622503089942,\n        \"num_unique_values\": 2007,\n        \"samples\": [\n          0.03396461432209035,\n          1.4422103177489611,\n          1.8031072620152104\n        ],\n        \"semantic_type\": \"\",\n        \"description\": \"\"\n      }\n    },\n    {\n      \"column\": \"H-index\",\n      \"properties\": {\n        \"dtype\": \"number\",\n        \"std\": 1.3610995017214245,\n        \"min\": -0.8201474577089661,\n        \"max\": 20.14002685093308,\n        \"num_unique_values\": 405,\n        \"samples\": [\n          -0.09247348171082723,\n          -0.503767468144558,\n          5.428357336188097\n        ],\n        \"semantic_type\": \"\",\n        \"description\": \"\"\n      }\n    },\n    {\n      \"column\": \"CiteScore\",\n      \"properties\": {\n        \"dtype\": \"number\",\n        \"std\": 1.6386266807832919,\n        \"min\": -0.48804041265568243,\n        \"max\": 82.41206347143051,\n        \"num_unique_values\": 389,\n        \"samples\": [\n          2.1070259135709684,\n          6.057723902751841,\n          4.392233573979513\n        ],\n        \"semantic_type\": \"\",\n        \"description\": \"\"\n      }\n    },\n    {\n      \"column\": \"Cites/Doc. in 2 years\",\n      \"properties\": {\n        \"dtype\": \"number\",\n        \"std\": 1.5656887330577638,\n        \"min\": -0.6852850811409865,\n        \"max\": 79.27907213085625,\n        \"num_unique_values\": 1235,\n        \"samples\": [\n          0.9913568298009203,\n          1.0473337457465166,\n          1.289900381510767\n        ],\n        \"semantic_type\": \"\",\n        \"description\": \"\"\n      }\n    },\n    {\n      \"column\": \"Total Cites in 3 years\",\n      \"properties\": {\n        \"dtype\": \"number\",\n        \"std\": 1.7404734204843335,\n        \"min\": -0.2237577791296544,\n        \"max\": 39.23902818004872,\n        \"num_unique_values\": 3300,\n        \"samples\": [\n          0.08219122513509047,\n          0.04188733694701592,\n          0.41337844692335807\n        ],\n        \"semantic_type\": \"\",\n        \"description\": \"\"\n      }\n    },\n    {\n      \"column\": \"Refs./Doc.\",\n      \"properties\": {\n        \"dtype\": \"number\",\n        \"std\": 1.2799162839614935,\n        \"min\": -1.5598981456445855,\n        \"max\": 24.90415354948325,\n        \"num_unique_values\": 3679,\n        \"samples\": [\n          0.33628649503679675,\n          0.8477847293098473,\n          0.5041272715711401\n        ],\n        \"semantic_type\": \"\",\n        \"description\": \"\"\n      }\n    },\n    {\n      \"column\": \"Weighted Sum\",\n      \"properties\": {\n        \"dtype\": \"number\",\n        \"std\": 1.3312778513184793,\n        \"min\": -0.20760446324133874,\n        \"max\": 47.585578109048996,\n        \"num_unique_values\": 5000,\n        \"samples\": [\n          0.6932475543815124,\n          0.3544649532293071,\n          0.5579606746889874\n        ],\n        \"semantic_type\": \"\",\n        \"description\": \"\"\n      }\n    },\n    {\n      \"column\": \"Distributed Weights Rank\",\n      \"properties\": {\n        \"dtype\": \"number\",\n        \"std\": 1762.4162333113163,\n        \"min\": 1.0,\n        \"max\": 9123.0,\n        \"num_unique_values\": 5000,\n        \"samples\": [\n          1473.0,\n          2658.0,\n          1861.0\n        ],\n        \"semantic_type\": \"\",\n        \"description\": \"\"\n      }\n    },\n    {\n      \"column\": \"Column_Sums\",\n      \"properties\": {\n        \"dtype\": \"number\",\n        \"std\": 6.499675894245047,\n        \"min\": -268.97646552777746,\n        \"max\": 5.531215457040529e-08,\n        \"num_unique_values\": 5000,\n        \"samples\": [\n          8.547555644694543e-12,\n          -1.255262893377711e-10,\n          -3.909005474768267e-11\n        ],\n        \"semantic_type\": \"\",\n        \"description\": \"\"\n      }\n    },\n    {\n      \"column\": \"Rank (PCA)\",\n      \"properties\": {\n        \"dtype\": \"number\",\n        \"std\": 1443.5200033252052,\n        \"min\": 1.0,\n        \"max\": 5000.0,\n        \"num_unique_values\": 5000,\n        \"samples\": [\n          2610.0,\n          972.0,\n          1916.0\n        ],\n        \"semantic_type\": \"\",\n        \"description\": \"\"\n      }\n    }\n  ]\n}"
            }
          },
          "metadata": {},
          "execution_count": 27
        }
      ]
    },
    {
      "cell_type": "code",
      "source": [
        "df_subset = df.iloc[:5000][['Rank', 'Title']]\n",
        "\n",
        "# Extract relevant columns from 'df1_first_5000'\n",
        "df1_subset = df1_first_5000[[ 'SJR-index', 'H-index', 'CiteScore',\n",
        "                            'Cites/Doc. in 2 years', 'Total Cites in 3 years', 'Refs./Doc.','Weighted Sum','Distributed Weights Rank', 'Column_Sums', 'Rank (PCA)']]\n",
        "\n",
        "# Merge the subsets to create 'df3'\n",
        "df3 = pd.concat([df_subset, df1_subset], axis=1)\n",
        "\n",
        "# Display the first few rows of 'df3'\n",
        "print(df3.head())"
      ],
      "metadata": {
        "colab": {
          "base_uri": "https://localhost:8080/"
        },
        "id": "SOH0kt0AkR1i",
        "outputId": "db98cc25-d321-4714-868d-d10d60f7ca59"
      },
      "execution_count": null,
      "outputs": [
        {
          "output_type": "stream",
          "name": "stdout",
          "text": [
            "   Rank                                  Title  SJR-index    H-index  \\\n",
            "0   1.0     Ca-A Cancer Journal for Clinicians  57.956225   2.217100   \n",
            "1   2.0         Quarterly Journal of Economics  24.407762   3.704086   \n",
            "2   3.0  Nature Reviews Molecular Cell Biology  22.688913   6.757153   \n",
            "3   4.0                                   Cell  17.450810  12.626002   \n",
            "4   5.0        New England Journal of Medicine  17.125255  16.960408   \n",
            "\n",
            "   CiteScore  Cites/Doc. in 2 years  Total Cites in 3 years  Refs./Doc.  \\\n",
            "0  82.412063              79.279072                3.678508    1.803853   \n",
            "1   2.649279               3.267751                0.050257    0.749993   \n",
            "2  20.633992               8.769483                1.491153    1.536487   \n",
            "3  12.577667              10.989900                8.503772    0.719823   \n",
            "4  16.760759               8.358985               17.023602   -1.205837   \n",
            "\n",
            "   Weighted Sum  Distributed Weights Rank  Column_Sums  Rank (PCA)  \n",
            "0     47.585578                       1.0  -268.976466         1.0  \n",
            "1     15.668598                       4.0  -217.126422         2.0  \n",
            "2     17.280176                       2.0  -157.218459         4.0  \n",
            "3     14.632828                       5.0  -187.924134         3.0  \n",
            "4     15.704128                       3.0   -92.461318         6.0  \n"
          ]
        }
      ]
    },
    {
      "cell_type": "code",
      "source": [],
      "metadata": {
        "id": "rRHgoUbuGMSy"
      },
      "execution_count": null,
      "outputs": []
    },
    {
      "cell_type": "code",
      "source": [
        "cell_journal = df3[df3['Title'] == 'Cell']\n",
        "\n",
        "# Extract relevant columns\n",
        "Rank = cell_journal['Rank'].values[0] if 'Rank' in cell_journal else None\n",
        "Distributed_Weights_Rank = cell_journal['Distributed Weights Rank'].values[0] if 'Rank' in cell_journal else None\n",
        "rank_pca = cell_journal['Rank (PCA)'].values[0] if 'Rank (PCA)' in cell_journal else None\n",
        "\n",
        "print(f\"Journal Title: Cell\")\n",
        "print(f\"Original Rank: {Rank}\")\n",
        "print(f\"Distributed Weights Rank: {Distributed_Weights_Rank}\")\n",
        "print(f\"Rank (PCA): {rank_pca}\")"
      ],
      "metadata": {
        "colab": {
          "base_uri": "https://localhost:8080/"
        },
        "id": "oc62fTmN2iEA",
        "outputId": "4823e035-08c9-4676-eaa4-1653a1e25d24"
      },
      "execution_count": null,
      "outputs": [
        {
          "output_type": "stream",
          "name": "stdout",
          "text": [
            "Journal Title: Cell\n",
            "Original Rank: 4.0\n",
            "Distributed Weights Rank: 5.0\n",
            "Rank (PCA): 3.0\n"
          ]
        }
      ]
    },
    {
      "cell_type": "code",
      "source": [
        "Science_journal = df3[df3['Title'] == 'Science']\n",
        "\n",
        "# Extract relevant columns\n",
        "Rank = Science_journal['Rank'].values[0] if 'Rank' in Science_journal else None\n",
        "Distributed_Weights_Rank = Science_journal['Distributed Weights Rank'].values[0] if 'Rank' in Science_journal else None\n",
        "rank_pca = Science_journal['Rank (PCA)'].values[0] if 'Rank (PCA)' in Science_journal else None\n",
        "\n",
        "print(f\"Journal Title: Science\")\n",
        "print(f\"Original Rank: {Rank}\")\n",
        "print(f\"Distributed Weights Rank: {Distributed_Weights_Rank}\")\n",
        "print(f\"Rank (PCA): {rank_pca}\")"
      ],
      "metadata": {
        "colab": {
          "base_uri": "https://localhost:8080/"
        },
        "id": "viQYbc9V4XNt",
        "outputId": "b12abdc9-b3f1-4b1d-e8d6-f43ae6833091"
      },
      "execution_count": null,
      "outputs": [
        {
          "output_type": "stream",
          "name": "stdout",
          "text": [
            "Journal Title: Science\n",
            "Original Rank: 38.0\n",
            "Distributed Weights Rank: 15.0\n",
            "Rank (PCA): 4949.0\n"
          ]
        }
      ]
    },
    {
      "cell_type": "code",
      "source": [
        "Nature_journal = df3[df3['Title'] == 'Nature']\n",
        "\n",
        "# Extract relevant columns\n",
        "Rank = Nature_journal['Rank'].values[0] if 'Rank' in Nature_journal else None\n",
        "Distributed_Weights_Rank = Nature_journal['Distributed Weights Rank'].values[0] if 'Rank' in Nature_journal else None\n",
        "rank_pca = Nature_journal['Rank (PCA)'].values[0] if 'Rank (PCA)' in Nature_journal else None\n",
        "\n",
        "print(f\"Journal Title: Nature\")\n",
        "print(f\"Original Rank: {Rank}\")\n",
        "print(f\"Distributed Weights Rank: {Distributed_Weights_Rank}\")\n",
        "print(f\"Rank (PCA): {rank_pca}\")"
      ],
      "metadata": {
        "colab": {
          "base_uri": "https://localhost:8080/"
        },
        "id": "T36dN5c04XP0",
        "outputId": "5159e6d3-0690-44ca-982a-60a12641f7d9"
      },
      "execution_count": null,
      "outputs": [
        {
          "output_type": "stream",
          "name": "stdout",
          "text": [
            "Journal Title: Nature\n",
            "Original Rank: 12.0\n",
            "Distributed Weights Rank: 6.0\n",
            "Rank (PCA): 9.0\n"
          ]
        }
      ]
    },
    {
      "cell_type": "code",
      "source": [],
      "metadata": {
        "id": "cMza1_636K3G"
      },
      "execution_count": null,
      "outputs": []
    },
    {
      "cell_type": "code",
      "source": [
        "df3.to_csv(\"journal_newPCA_rank.csv\", index=False)\n",
        "\n",
        "print(\"Rank column saved to journal_rank.csv\")"
      ],
      "metadata": {
        "colab": {
          "base_uri": "https://localhost:8080/"
        },
        "id": "wDaQOCWAHnAM",
        "outputId": "f13569cb-3027-41f6-f589-51621c750236"
      },
      "execution_count": null,
      "outputs": [
        {
          "output_type": "stream",
          "name": "stdout",
          "text": [
            "Rank column saved to journal_rank.csv\n"
          ]
        }
      ]
    },
    {
      "cell_type": "code",
      "source": [
        "num_components_to_retain = 4  # You've decided to retain 4 components\n",
        "\n",
        "# Select the top k eigenvectors\n",
        "top_eigenvectors = eigenvectors[:, :num_components_to_retain]\n",
        "\n",
        "# Assuming 'data' is your centered and standardized data\n",
        "feature_vectors = np.dot(df1_first_5000, top_eigenvectors)\n",
        "\n",
        "# Print the feature vectors\n",
        "print(\"Feature Vectors (Transformed Data):\")\n",
        "print(feature_vectors)"
      ],
      "metadata": {
        "colab": {
          "base_uri": "https://localhost:8080/",
          "height": 211
        },
        "id": "FF-eDSu0UaNO",
        "outputId": "0ba2b5c8-0f00-4932-d78e-8f0ebaf95b6f"
      },
      "execution_count": null,
      "outputs": [
        {
          "output_type": "error",
          "ename": "ValueError",
          "evalue": "shapes (5000,10) and (5000,4) not aligned: 10 (dim 1) != 5000 (dim 0)",
          "traceback": [
            "\u001b[0;31m---------------------------------------------------------------------------\u001b[0m",
            "\u001b[0;31mValueError\u001b[0m                                Traceback (most recent call last)",
            "\u001b[0;32m<ipython-input-33-da6b3eaf9a68>\u001b[0m in \u001b[0;36m<cell line: 7>\u001b[0;34m()\u001b[0m\n\u001b[1;32m      5\u001b[0m \u001b[0;34m\u001b[0m\u001b[0m\n\u001b[1;32m      6\u001b[0m \u001b[0;31m# Assuming 'data' is your centered and standardized data\u001b[0m\u001b[0;34m\u001b[0m\u001b[0;34m\u001b[0m\u001b[0m\n\u001b[0;32m----> 7\u001b[0;31m \u001b[0mfeature_vectors\u001b[0m \u001b[0;34m=\u001b[0m \u001b[0mnp\u001b[0m\u001b[0;34m.\u001b[0m\u001b[0mdot\u001b[0m\u001b[0;34m(\u001b[0m\u001b[0mdf1_first_5000\u001b[0m\u001b[0;34m,\u001b[0m \u001b[0mtop_eigenvectors\u001b[0m\u001b[0;34m)\u001b[0m\u001b[0;34m\u001b[0m\u001b[0;34m\u001b[0m\u001b[0m\n\u001b[0m\u001b[1;32m      8\u001b[0m \u001b[0;34m\u001b[0m\u001b[0m\n\u001b[1;32m      9\u001b[0m \u001b[0;31m# Print the feature vectors\u001b[0m\u001b[0;34m\u001b[0m\u001b[0;34m\u001b[0m\u001b[0m\n",
            "\u001b[0;31mValueError\u001b[0m: shapes (5000,10) and (5000,4) not aligned: 10 (dim 1) != 5000 (dim 0)"
          ]
        }
      ]
    },
    {
      "cell_type": "code",
      "source": [
        "eigenvalues, eigenvectors = np.linalg.eig(covariance_matrix)\n",
        "\n",
        "# Print the eigenvectors and eigenvalues\n",
        "print(\"Eigenvectors:\")\n",
        "print(eigenvectors)\n",
        "print(\"\\nEigenvalues:\")\n",
        "print(eigenvalues)"
      ],
      "metadata": {
        "id": "eL7v0aXdNf90"
      },
      "execution_count": null,
      "outputs": []
    },
    {
      "cell_type": "markdown",
      "source": [
        "\n",
        "**Apply PCA**"
      ],
      "metadata": {
        "id": "ZnrnpxWr3iNQ"
      }
    },
    {
      "cell_type": "code",
      "source": [
        "\n",
        "# Create an instance of PCA with the desired number of components\n",
        "pca = PCA(n_components=0.95)\n",
        "\n",
        "# Fit the PCA model to the weighted metrics\n",
        "pca.fit(df1_cleaned)\n",
        "\n",
        "# Transform the weighted metrics into the principal components\n",
        "weighted_metrics_transformed = pca.transform(df1_cleaned)\n",
        "\n",
        "\n",
        "\n",
        "# Get the explained variance ratio for each component\n",
        "explained_variance_ratio = pca.explained_variance_ratio_\n",
        "\n",
        "# Calculate the cumulative explained variance\n",
        "cumulative_explained_variance = explained_variance_ratio.cumsum()\n",
        "\n",
        "# Print the explained variance ratio and cumulative explained variance\n",
        "print(\"Explained Variance Ratio for each component:\")\n",
        "print(explained_variance_ratio)\n",
        "print(\"\\nCumulative Explained Variance:\")\n",
        "print(cumulative_explained_variance)\n"
      ],
      "metadata": {
        "id": "0qxyBwAsVn4b"
      },
      "execution_count": null,
      "outputs": []
    },
    {
      "cell_type": "code",
      "source": [
        "# Add the transformed principal components as new columns\n",
        "df1.loc[df1_cleaned.index, 'PC1'] = weighted_metrics_transformed[:, 0]\n",
        "df1.loc[df1_cleaned.index, 'PC2'] = weighted_metrics_transformed[:, 1]\n",
        "df1.loc[df1_cleaned.index, 'PC3'] = weighted_metrics_transformed[:, 2]\n",
        "df1.loc[df1_cleaned.index, 'PC4'] = weighted_metrics_transformed[:, 3]\n",
        "\n",
        "\n",
        "\n",
        "# Print the updated DataFrame with principal components\n",
        "print(df1)"
      ],
      "metadata": {
        "id": "EM_B8iBgn94C"
      },
      "execution_count": null,
      "outputs": []
    },
    {
      "cell_type": "code",
      "source": [
        "explained_variance_ratio = pca.explained_variance_ratio_\n",
        "\n",
        "\n",
        "explained_percentage_pc1 = explained_variance_ratio[0] * 100\n",
        "explained_percentage_pc2 = explained_variance_ratio[1] * 100\n",
        "explained_percentage_pc3 = explained_variance_ratio[2] * 100\n",
        "explained_percentage_pc4 = explained_variance_ratio[3] * 100\n",
        "\n",
        "\n",
        "\n",
        "print(f\"Explained Variance Percentage for PC1: {explained_percentage_pc1:.2f}%\")\n",
        "print(f\"Explained Variance Percentage for PC2: {explained_percentage_pc2:.2f}%\")\n",
        "print(f\"Explained Variance Percentage for PC2: {explained_percentage_pc3:.2f}%\")\n",
        "print(f\"Explained Variance Percentage for PC2: {explained_percentage_pc4:.2f}%\")\n",
        "print(f\"Cumulative Explained Variance:\")\n",
        "print(cumulative_explained_variance)"
      ],
      "metadata": {
        "id": "9obmxAVQ2SGS"
      },
      "execution_count": null,
      "outputs": []
    },
    {
      "cell_type": "markdown",
      "source": [
        "**Scatter Plot of PCA**"
      ],
      "metadata": {
        "id": "hoam8JDB4e4j"
      }
    },
    {
      "cell_type": "code",
      "source": [
        "plt.scatter(df1['PC1'], df1['PC2'], c=df1['New Rank'], cmap='viridis', alpha=0.7)\n",
        "df1_negative = df1[(df1[\"PC1\"] < 0) & (df1[\"PC2\"] < 0)]\n",
        "x_range = max(df1[\"PC1\"]) - min(df1[\"PC1\"])\n",
        "y_range = max(df1[\"PC2\"]) - min(df1[\"PC2\"])\n",
        "plt.xlim(-10, 40)\n",
        "plt.ylim(-40, 20)\n",
        "\n",
        "plt.scatter(df1[\"PC1\"], df1[\"PC2\"], c=df1[\"New Rank\"], cmap=\"viridis\", alpha=0.7)\n",
        "plt.scatter(df1_negative[\"PC1\"], df1_negative[\"PC2\"], color=\"red\", label=\"Negative PC1 and PC2\")\n",
        "plt.xlabel(f\"PCA-1: {explained_percentage_pc1:.2f}% Explained\")\n",
        "plt.ylabel(f\"PCA-2: {explained_percentage_pc2:.2f}% Explained\")\n",
        "plt.title(\"Scatter Plot of PCA (n=2)\")\n",
        "\n",
        "plt.colorbar(label=\"New Rank\")\n",
        "plt.grid(True)  # Add grid lines\n",
        "plt.axhline(0, color=\"gray\", linestyle=\"--\")  # Add horizontal line at y=0\n",
        "plt.axvline(0, color=\"gray\", linestyle=\"--\")  # Add vertical line at x=0\n",
        "\n",
        "plt.show()"
      ],
      "metadata": {
        "id": "GvNP64BNVn66"
      },
      "execution_count": null,
      "outputs": []
    },
    {
      "cell_type": "code",
      "source": [
        "\n",
        "# Assuming you already have the PCA model (pca) and explained variance ratios\n",
        "PC_values = np.arange(pca.n_components_) + 1\n",
        "\n",
        "# Plot the explained variance as bars\n",
        "bars = plt.bar(PC_values, pca.explained_variance_ratio_ * 100, color='blue', label='Explained Variance')\n",
        "\n",
        "# Calculate cumulative explained variance\n",
        "cumulative_variance = np.cumsum(pca.explained_variance_ratio_) * 100\n",
        "\n",
        "# Plot the cumulative explained variance as a line\n",
        "plt.plot(PC_values, cumulative_variance, marker='o', color='orange', label='Cumulative Explained Variance')\n",
        "\n",
        "# Add text annotations for cumulative explained variance\n",
        "for i, cum_var in enumerate(cumulative_variance):\n",
        "    plt.annotate(f\"{cum_var:.2f}%\", (PC_values[i], cum_var), textcoords=\"offset points\", xytext=(0,5), ha='center')\n",
        "\n",
        "# Add percentage labels on the bars\n",
        "for bar in bars:\n",
        "    height = bar.get_height()\n",
        "    plt.annotate(f\"{height:.2f}%\", xy=(bar.get_x() + bar.get_width() / 2, height), xytext=(0, 3),\n",
        "                 textcoords=\"offset points\", ha='center', va='bottom')\n",
        "\n",
        "plt.title('Explained Variance by Principal Component')\n",
        "plt.xlabel('Principal Component (n)')\n",
        "plt.ylabel('Variance Explained (%)')\n",
        "plt.xticks(PC_values)  # Show integer values on the x-axis\n",
        "plt.legend()\n",
        "plt.show()"
      ],
      "metadata": {
        "id": "M01RVEioqN4D"
      },
      "execution_count": null,
      "outputs": []
    },
    {
      "cell_type": "markdown",
      "source": [
        "**Normalized_PCA_Score\" and Rank based on this score**"
      ],
      "metadata": {
        "id": "m_6I7UGQAPKS"
      }
    },
    {
      "cell_type": "code",
      "source": [
        "df1[\"PCA_Score\"] = 0.5812 * df1[\"PC1\"] + 0.1728 * df1[\"PC2\"] + 0.1361 * df1[\"PC3\"] + 0.0745 * df1[\"PC4\"]\n",
        "\n",
        "\n",
        "# Normalize PCA scores to [0, 1]\n",
        "df1[\"Normalized_PCA_Score\"] = (df1[\"PCA_Score\"] - df1[\"PCA_Score\"].min()) / (df1[\"PCA_Score\"].max() - df1[\"PCA_Score\"].min())\n",
        "\n",
        "\n",
        "\n",
        "# Rank journals based on combined score\n",
        "df1[\"Rank (PCA Score)\"] = df1[\"Normalized_PCA_Score\"].rank(ascending=False)\n",
        "\n",
        "# Print the final ranking\n",
        "print(df1[[\"Rank (PCA Score)\"]])\n"
      ],
      "metadata": {
        "id": "-tBEyberGeDN"
      },
      "execution_count": null,
      "outputs": []
    },
    {
      "cell_type": "code",
      "source": [
        "print(df1[\"Normalized_PCA_Score\"])"
      ],
      "metadata": {
        "id": "A6eYFaOBwC4v"
      },
      "execution_count": null,
      "outputs": []
    },
    {
      "cell_type": "code",
      "source": [
        "df1"
      ],
      "metadata": {
        "id": "lNU0xiaBwbyo"
      },
      "execution_count": null,
      "outputs": []
    },
    {
      "cell_type": "code",
      "source": [
        "df1[[\"Rank (PCA Score)\"]].to_csv(\"journal_newPCA_rank.csv\", index=False)\n",
        "\n",
        "print(\"Rank column saved to journal_rank.csv\")"
      ],
      "metadata": {
        "id": "18liIgz9HZei"
      },
      "execution_count": null,
      "outputs": []
    },
    {
      "cell_type": "code",
      "source": [
        "\n",
        "# Scatter plot with more transparent points\n",
        "plt.scatter(df1['New Rank'], df1['Rank (PCA Score)'], color='blue', label='New Rank', alpha=0.1)\n",
        "plt.scatter(df1['Rank (PCA Score)'], df1['New Rank'], color='red', label='Rank', alpha=0.1)\n",
        "\n",
        "# Add labels for axes\n",
        "plt.xlabel('New Rank')\n",
        "plt.ylabel('Rank (PCA Score)')\n",
        "\n",
        "# Add a legend\n",
        "plt.legend()\n",
        "plt.title(\"Scatter Plot of PCA Score Ranking vs New Rank\")\n",
        "# Show the plot\n",
        "plt.show()"
      ],
      "metadata": {
        "id": "iLSHNXhQTIbS"
      },
      "execution_count": null,
      "outputs": []
    },
    {
      "cell_type": "code",
      "source": [
        "y = np.arange(len(df1))\n",
        "\n",
        "# Scatter plot comparing rankings\n",
        "plt.scatter(df1['New Rank'], y, color='blue', label='New Rank', alpha=0.1)\n",
        "\n",
        "\n",
        "# Add labels for axes\n",
        "plt.xlabel('Rankings')\n",
        "plt.ylabel('Original Rank')\n",
        "\n",
        "# Add a legend\n",
        "plt.legend()\n",
        "plt.title(\"Scatter Plot of Original Rank vs New Rank\")\n",
        "# Show the plot\n",
        "plt.show()"
      ],
      "metadata": {
        "id": "uWaBOp8ZHjP_"
      },
      "execution_count": null,
      "outputs": []
    },
    {
      "cell_type": "code",
      "source": [
        "import matplotlib.pyplot as plt\n",
        "import numpy as np\n",
        "\n",
        "# Assuming you have a DataFrame named df1 with columns 'Original Rank', 'New Rank', and 'Rank'\n",
        "\n",
        "# Generate an array for the y-axis values (original ranking)\n",
        "y = np.arange(len(df1))\n",
        "\n",
        "# Scatter plot comparing rankings\n",
        "\n",
        "plt.scatter(df1['Rank (PCA Score)'], y, color='red', label='Rank (PCA Score)', alpha=0.2)\n",
        "\n",
        "# Add labels for axes\n",
        "plt.xlabel('Rankings')\n",
        "plt.ylabel('Original Rank')\n",
        "\n",
        "# Add a legend\n",
        "plt.legend()\n",
        "plt.title(\"Scatter Plot of Oringinal Rank vs PCA Score Ranking\")\n",
        "\n",
        "# Show the plot\n",
        "plt.show()"
      ],
      "metadata": {
        "id": "mBSXrRDNU8AR"
      },
      "execution_count": null,
      "outputs": []
    },
    {
      "cell_type": "code",
      "source": [
        "y = np.arange(len(df1))\n",
        "\n",
        "# Scatter plot comparing rankings\n",
        "\n",
        "plt.scatter(df1['Rank (PCA Score)'], y, color='red', label='Rank (PCA Score)', alpha=0.1)\n",
        "plt.scatter(df1['New Rank'], y, color='blue', label='New Rank', alpha=0.1)\n",
        "# Add labels for axes\n",
        "plt.xlabel('Rankings')\n",
        "plt.ylabel('Original Rank')\n",
        "\n",
        "# Add a legend\n",
        "plt.legend()\n",
        "plt.title(\"Scatter Plot of Oringinal Rank vs PCA Score Rank vs New Rank\")\n",
        "# Show the plot\n",
        "plt.show()"
      ],
      "metadata": {
        "id": "S8aTkcrQHYvt"
      },
      "execution_count": null,
      "outputs": []
    },
    {
      "cell_type": "markdown",
      "source": [
        "**Creating df2 for ranking comparsion**\n"
      ],
      "metadata": {
        "id": "QBvQw7XuhN5W"
      }
    },
    {
      "cell_type": "code",
      "source": [
        "# Assuming df2 is your existing DataFrame\n",
        "# Create new columns with appropriate values\n",
        "df2 = pd.DataFrame()\n",
        "df2['Title'] = df['Title']\n",
        "\n",
        "df2['Rank'] = df['Rank']  # Replace 'df' with the actual DataFrame containing the 'Rank' column\n",
        "df2['Rank (PCA Score)'] = df1['Rank (PCA Score)']  # Replace 'df1' with the actual DataFrame containing the 'Rank (PCA Score)' column\n",
        "df2['New Rank'] = df1['New Rank']  # Replace 'df1' with the actual DataFrame containing the 'New Rank' column\n",
        "\n",
        "# Print the updated DataFrame\n",
        "print(df2)\n"
      ],
      "metadata": {
        "id": "B_egSFgOgn7d"
      },
      "execution_count": null,
      "outputs": []
    },
    {
      "cell_type": "code",
      "source": [
        "df2_cleaned = df2.dropna().copy()\n",
        "\n",
        "\n",
        "# Now df1_cleaned contains only rows without NaN values\n",
        "print(df2_cleaned)"
      ],
      "metadata": {
        "id": "Hx1BTT7Ug5J8"
      },
      "execution_count": null,
      "outputs": []
    },
    {
      "cell_type": "markdown",
      "source": [
        "**Kendall’s Tau Rank Correlation**"
      ],
      "metadata": {
        "id": "1_6_p-dfhY8d"
      }
    },
    {
      "cell_type": "code",
      "source": [
        "from scipy.stats import kendalltau\n",
        "\n",
        "# Example ranks (replace with your actual data)\n",
        "original_rank = df2_cleaned['Rank']\n",
        "pca_score_rank = df2_cleaned['Rank (PCA Score)']\n",
        "new_rank = df2_cleaned['New Rank']\n",
        "\n",
        "# Calculate Kendall's Tau\n",
        "tau_original_pca, _ = kendalltau(original_rank, pca_score_rank)\n",
        "tau_original_new, _ = kendalltau(original_rank, new_rank)\n",
        "tau_pca_new, _ = kendalltau(pca_score_rank, new_rank)\n",
        "\n",
        "print(f\"Kendall's Tau (Original vs. PCA Score): {tau_original_pca:.2f}\")\n",
        "print(f\"Kendall's Tau (Original vs. New): {tau_original_new:.2f}\")\n",
        "print(f\"Kendall's Tau (PCA Score vs. New): {tau_pca_new:.2f}\")"
      ],
      "metadata": {
        "id": "x0s7gQf1fjo4"
      },
      "execution_count": null,
      "outputs": []
    },
    {
      "cell_type": "code",
      "source": [],
      "metadata": {
        "id": "BbcBkllGh65g"
      },
      "execution_count": null,
      "outputs": []
    }
  ]
}